{
  "cells": [
    {
      "cell_type": "code",
      "execution_count": 7,
      "metadata": {
        "id": "YSXMqxP3CJ6G"
      },
      "outputs": [],
      "source": [
        "import pandas as pd\n",
        "import numpy as np\n",
        "import matplotlib.pyplot as plt\n",
        "import seaborn as sns"
      ]
    },
    {
      "cell_type": "code",
      "execution_count": 8,
      "metadata": {
        "colab": {
          "base_uri": "https://localhost:8080/",
          "height": 206
        },
        "id": "SYzIaBqmCZD4",
        "outputId": "a08baa01-a47f-4faa-fb5d-10fd4d84e283"
      },
      "outputs": [
        {
          "data": {
            "text/html": [
              "<div>\n",
              "<style scoped>\n",
              "    .dataframe tbody tr th:only-of-type {\n",
              "        vertical-align: middle;\n",
              "    }\n",
              "\n",
              "    .dataframe tbody tr th {\n",
              "        vertical-align: top;\n",
              "    }\n",
              "\n",
              "    .dataframe thead th {\n",
              "        text-align: right;\n",
              "    }\n",
              "</style>\n",
              "<table border=\"1\" class=\"dataframe\">\n",
              "  <thead>\n",
              "    <tr style=\"text-align: right;\">\n",
              "      <th></th>\n",
              "      <th>MA</th>\n",
              "      <th>FA</th>\n",
              "      <th>Cs</th>\n",
              "      <th>Pb</th>\n",
              "      <th>Sn</th>\n",
              "      <th>Br</th>\n",
              "      <th>Cl</th>\n",
              "      <th>I</th>\n",
              "      <th>Bandgap</th>\n",
              "      <th>HOMO</th>\n",
              "      <th>LUMO</th>\n",
              "      <th>Light source</th>\n",
              "      <th>Illuminance (lux)</th>\n",
              "      <th>PCE</th>\n",
              "      <th>Voc</th>\n",
              "      <th>Jsc(?A cm-2)</th>\n",
              "      <th>FF</th>\n",
              "    </tr>\n",
              "  </thead>\n",
              "  <tbody>\n",
              "    <tr>\n",
              "      <th>0</th>\n",
              "      <td>0.36</td>\n",
              "      <td>0.54</td>\n",
              "      <td>0.1</td>\n",
              "      <td>1</td>\n",
              "      <td>0</td>\n",
              "      <td>0.4</td>\n",
              "      <td>0.0</td>\n",
              "      <td>0.6</td>\n",
              "      <td>1.75</td>\n",
              "      <td>0.45</td>\n",
              "      <td>0.2</td>\n",
              "      <td>FL</td>\n",
              "      <td>1000</td>\n",
              "      <td>32.7</td>\n",
              "      <td>1.09</td>\n",
              "      <td>104.8</td>\n",
              "      <td>0.82</td>\n",
              "    </tr>\n",
              "    <tr>\n",
              "      <th>1</th>\n",
              "      <td>0.36</td>\n",
              "      <td>0.54</td>\n",
              "      <td>0.1</td>\n",
              "      <td>1</td>\n",
              "      <td>0</td>\n",
              "      <td>0.4</td>\n",
              "      <td>0.0</td>\n",
              "      <td>0.6</td>\n",
              "      <td>1.75</td>\n",
              "      <td>0.45</td>\n",
              "      <td>0.2</td>\n",
              "      <td>FL</td>\n",
              "      <td>500</td>\n",
              "      <td>28.9</td>\n",
              "      <td>1.01</td>\n",
              "      <td>53.7</td>\n",
              "      <td>0.81</td>\n",
              "    </tr>\n",
              "    <tr>\n",
              "      <th>2</th>\n",
              "      <td>0.36</td>\n",
              "      <td>0.54</td>\n",
              "      <td>0.1</td>\n",
              "      <td>1</td>\n",
              "      <td>0</td>\n",
              "      <td>0.4</td>\n",
              "      <td>0.0</td>\n",
              "      <td>0.6</td>\n",
              "      <td>1.75</td>\n",
              "      <td>0.45</td>\n",
              "      <td>0.2</td>\n",
              "      <td>FL</td>\n",
              "      <td>300</td>\n",
              "      <td>24.2</td>\n",
              "      <td>0.97</td>\n",
              "      <td>31.3</td>\n",
              "      <td>0.81</td>\n",
              "    </tr>\n",
              "    <tr>\n",
              "      <th>3</th>\n",
              "      <td>0.36</td>\n",
              "      <td>0.54</td>\n",
              "      <td>0.1</td>\n",
              "      <td>1</td>\n",
              "      <td>0</td>\n",
              "      <td>0.4</td>\n",
              "      <td>0.0</td>\n",
              "      <td>0.6</td>\n",
              "      <td>1.75</td>\n",
              "      <td>0.45</td>\n",
              "      <td>0.2</td>\n",
              "      <td>FL</td>\n",
              "      <td>200</td>\n",
              "      <td>22.3</td>\n",
              "      <td>0.91</td>\n",
              "      <td>19.3</td>\n",
              "      <td>0.75</td>\n",
              "    </tr>\n",
              "    <tr>\n",
              "      <th>4</th>\n",
              "      <td>0.36</td>\n",
              "      <td>0.54</td>\n",
              "      <td>0.1</td>\n",
              "      <td>1</td>\n",
              "      <td>0</td>\n",
              "      <td>0.4</td>\n",
              "      <td>0.0</td>\n",
              "      <td>0.6</td>\n",
              "      <td>1.75</td>\n",
              "      <td>0.45</td>\n",
              "      <td>0.2</td>\n",
              "      <td>FL</td>\n",
              "      <td>100</td>\n",
              "      <td>21.5</td>\n",
              "      <td>0.88</td>\n",
              "      <td>10.0</td>\n",
              "      <td>0.74</td>\n",
              "    </tr>\n",
              "  </tbody>\n",
              "</table>\n",
              "</div>"
            ],
            "text/plain": [
              "     MA    FA   Cs  Pb  Sn   Br   Cl    I  Bandgap  HOMO  LUMO Light source  \\\n",
              "0  0.36  0.54  0.1   1   0  0.4  0.0  0.6     1.75  0.45   0.2           FL   \n",
              "1  0.36  0.54  0.1   1   0  0.4  0.0  0.6     1.75  0.45   0.2           FL   \n",
              "2  0.36  0.54  0.1   1   0  0.4  0.0  0.6     1.75  0.45   0.2           FL   \n",
              "3  0.36  0.54  0.1   1   0  0.4  0.0  0.6     1.75  0.45   0.2           FL   \n",
              "4  0.36  0.54  0.1   1   0  0.4  0.0  0.6     1.75  0.45   0.2           FL   \n",
              "\n",
              "   Illuminance (lux)   PCE   Voc  Jsc(?A cm-2)    FF  \n",
              "0               1000  32.7  1.09         104.8  0.82  \n",
              "1                500  28.9  1.01          53.7  0.81  \n",
              "2                300  24.2  0.97          31.3  0.81  \n",
              "3                200  22.3  0.91          19.3  0.75  \n",
              "4                100  21.5  0.88          10.0  0.74  "
            ]
          },
          "execution_count": 8,
          "metadata": {},
          "output_type": "execute_result"
        }
      ],
      "source": [
        "df=pd.read_csv('sbg_indoor.csv')\n",
        "df.head()"
      ]
    },
    {
      "cell_type": "code",
      "execution_count": 9,
      "metadata": {
        "colab": {
          "base_uri": "https://localhost:8080/"
        },
        "id": "LdlkoIcuDmX9",
        "outputId": "4ba51e3d-7312-40cb-d21c-82d2a4740371"
      },
      "outputs": [
        {
          "data": {
            "text/plain": [
              "Index(['MA', 'FA', 'Cs', 'Pb', 'Sn', 'Br', 'Cl', 'I', 'Bandgap', 'HOMO',\n",
              "       'LUMO', 'Light source', 'Illuminance (lux)', 'PCE', 'Voc',\n",
              "       'Jsc(?A cm-2)', 'FF'],\n",
              "      dtype='object')"
            ]
          },
          "execution_count": 9,
          "metadata": {},
          "output_type": "execute_result"
        }
      ],
      "source": [
        "df.keys()"
      ]
    },
    {
      "cell_type": "code",
      "execution_count": 10,
      "metadata": {
        "id": "Euv4NHmwDuPI"
      },
      "outputs": [],
      "source": [
        "df=df[['Bandgap', 'HOMO', 'LUMO','Light source', 'Illuminance (lux)', 'PCE',]]"
      ]
    },
    {
      "cell_type": "code",
      "execution_count": 11,
      "metadata": {
        "colab": {
          "base_uri": "https://localhost:8080/"
        },
        "id": "c1hkdHyYD4b-",
        "outputId": "645292c7-e3a5-456b-b597-01e90c873d77"
      },
      "outputs": [
        {
          "data": {
            "text/plain": [
              "Light source\n",
              "LED        273\n",
              "FL          58\n",
              "HALOGEN      7\n",
              "Name: count, dtype: int64"
            ]
          },
          "execution_count": 11,
          "metadata": {},
          "output_type": "execute_result"
        }
      ],
      "source": [
        "df['Light source'].value_counts()"
      ]
    },
    {
      "cell_type": "code",
      "execution_count": 12,
      "metadata": {
        "id": "mXa2ZXMYD9RX"
      },
      "outputs": [],
      "source": [
        "from sklearn.preprocessing import LabelEncoder\n",
        "le= LabelEncoder()\n",
        "df['Light source']=le.fit_transform(df['Light source'])"
      ]
    },
    {
      "cell_type": "code",
      "execution_count": 13,
      "metadata": {
        "colab": {
          "base_uri": "https://localhost:8080/",
          "height": 423
        },
        "id": "flyu4wPGEdXD",
        "outputId": "456cfb8b-6bd9-41b2-f321-9ba734adbe0c"
      },
      "outputs": [
        {
          "data": {
            "text/html": [
              "<div>\n",
              "<style scoped>\n",
              "    .dataframe tbody tr th:only-of-type {\n",
              "        vertical-align: middle;\n",
              "    }\n",
              "\n",
              "    .dataframe tbody tr th {\n",
              "        vertical-align: top;\n",
              "    }\n",
              "\n",
              "    .dataframe thead th {\n",
              "        text-align: right;\n",
              "    }\n",
              "</style>\n",
              "<table border=\"1\" class=\"dataframe\">\n",
              "  <thead>\n",
              "    <tr style=\"text-align: right;\">\n",
              "      <th></th>\n",
              "      <th>Bandgap</th>\n",
              "      <th>HOMO</th>\n",
              "      <th>LUMO</th>\n",
              "      <th>Light source</th>\n",
              "      <th>Illuminance (lux)</th>\n",
              "      <th>PCE</th>\n",
              "    </tr>\n",
              "  </thead>\n",
              "  <tbody>\n",
              "    <tr>\n",
              "      <th>0</th>\n",
              "      <td>1.75</td>\n",
              "      <td>0.45</td>\n",
              "      <td>0.20</td>\n",
              "      <td>0</td>\n",
              "      <td>1000</td>\n",
              "      <td>32.70</td>\n",
              "    </tr>\n",
              "    <tr>\n",
              "      <th>1</th>\n",
              "      <td>1.75</td>\n",
              "      <td>0.45</td>\n",
              "      <td>0.20</td>\n",
              "      <td>0</td>\n",
              "      <td>500</td>\n",
              "      <td>28.90</td>\n",
              "    </tr>\n",
              "    <tr>\n",
              "      <th>2</th>\n",
              "      <td>1.75</td>\n",
              "      <td>0.45</td>\n",
              "      <td>0.20</td>\n",
              "      <td>0</td>\n",
              "      <td>300</td>\n",
              "      <td>24.20</td>\n",
              "    </tr>\n",
              "    <tr>\n",
              "      <th>3</th>\n",
              "      <td>1.75</td>\n",
              "      <td>0.45</td>\n",
              "      <td>0.20</td>\n",
              "      <td>0</td>\n",
              "      <td>200</td>\n",
              "      <td>22.30</td>\n",
              "    </tr>\n",
              "    <tr>\n",
              "      <th>4</th>\n",
              "      <td>1.75</td>\n",
              "      <td>0.45</td>\n",
              "      <td>0.20</td>\n",
              "      <td>0</td>\n",
              "      <td>100</td>\n",
              "      <td>21.50</td>\n",
              "    </tr>\n",
              "    <tr>\n",
              "      <th>...</th>\n",
              "      <td>...</td>\n",
              "      <td>...</td>\n",
              "      <td>...</td>\n",
              "      <td>...</td>\n",
              "      <td>...</td>\n",
              "      <td>...</td>\n",
              "    </tr>\n",
              "    <tr>\n",
              "      <th>333</th>\n",
              "      <td>1.70</td>\n",
              "      <td>0.20</td>\n",
              "      <td>0.50</td>\n",
              "      <td>0</td>\n",
              "      <td>322</td>\n",
              "      <td>23.00</td>\n",
              "    </tr>\n",
              "    <tr>\n",
              "      <th>334</th>\n",
              "      <td>1.53</td>\n",
              "      <td>0.36</td>\n",
              "      <td>0.57</td>\n",
              "      <td>2</td>\n",
              "      <td>1000</td>\n",
              "      <td>17.80</td>\n",
              "    </tr>\n",
              "    <tr>\n",
              "      <th>335</th>\n",
              "      <td>1.80</td>\n",
              "      <td>0.50</td>\n",
              "      <td>0.80</td>\n",
              "      <td>2</td>\n",
              "      <td>200</td>\n",
              "      <td>25.21</td>\n",
              "    </tr>\n",
              "    <tr>\n",
              "      <th>336</th>\n",
              "      <td>1.80</td>\n",
              "      <td>0.50</td>\n",
              "      <td>0.80</td>\n",
              "      <td>2</td>\n",
              "      <td>500</td>\n",
              "      <td>26.69</td>\n",
              "    </tr>\n",
              "    <tr>\n",
              "      <th>337</th>\n",
              "      <td>1.80</td>\n",
              "      <td>0.50</td>\n",
              "      <td>0.80</td>\n",
              "      <td>2</td>\n",
              "      <td>1000</td>\n",
              "      <td>30.73</td>\n",
              "    </tr>\n",
              "  </tbody>\n",
              "</table>\n",
              "<p>338 rows × 6 columns</p>\n",
              "</div>"
            ],
            "text/plain": [
              "     Bandgap  HOMO  LUMO  Light source  Illuminance (lux)    PCE\n",
              "0       1.75  0.45  0.20             0               1000  32.70\n",
              "1       1.75  0.45  0.20             0                500  28.90\n",
              "2       1.75  0.45  0.20             0                300  24.20\n",
              "3       1.75  0.45  0.20             0                200  22.30\n",
              "4       1.75  0.45  0.20             0                100  21.50\n",
              "..       ...   ...   ...           ...                ...    ...\n",
              "333     1.70  0.20  0.50             0                322  23.00\n",
              "334     1.53  0.36  0.57             2               1000  17.80\n",
              "335     1.80  0.50  0.80             2                200  25.21\n",
              "336     1.80  0.50  0.80             2                500  26.69\n",
              "337     1.80  0.50  0.80             2               1000  30.73\n",
              "\n",
              "[338 rows x 6 columns]"
            ]
          },
          "execution_count": 13,
          "metadata": {},
          "output_type": "execute_result"
        }
      ],
      "source": [
        "df"
      ]
    },
    {
      "cell_type": "code",
      "execution_count": 14,
      "metadata": {
        "id": "pxocinmMEfPB"
      },
      "outputs": [],
      "source": [
        "df=df.dropna()"
      ]
    },
    {
      "cell_type": "code",
      "execution_count": 15,
      "metadata": {
        "colab": {
          "base_uri": "https://localhost:8080/"
        },
        "id": "4sY-3gzsEwGy",
        "outputId": "e5993429-a0fa-4027-84e6-0d102c02bf9b"
      },
      "outputs": [
        {
          "ename": "ModuleNotFoundError",
          "evalue": "No module named 'google'",
          "output_type": "error",
          "traceback": [
            "\u001b[0;31m---------------------------------------------------------------------------\u001b[0m",
            "\u001b[0;31mModuleNotFoundError\u001b[0m                       Traceback (most recent call last)",
            "Cell \u001b[0;32mIn[15], line 1\u001b[0m\n\u001b[0;32m----> 1\u001b[0m \u001b[38;5;28;01mfrom\u001b[39;00m \u001b[38;5;21;01mgoogle\u001b[39;00m\u001b[38;5;21;01m.\u001b[39;00m\u001b[38;5;21;01mcolab\u001b[39;00m \u001b[38;5;28;01mimport\u001b[39;00m drive\n\u001b[1;32m      2\u001b[0m drive\u001b[38;5;241m.\u001b[39mmount(\u001b[38;5;124m'\u001b[39m\u001b[38;5;124m/content/drive\u001b[39m\u001b[38;5;124m'\u001b[39m)\n",
            "\u001b[0;31mModuleNotFoundError\u001b[0m: No module named 'google'"
          ]
        }
      ],
      "source": [
        "from google.colab import drive\n",
        "drive.mount('/content/drive')"
      ]
    },
    {
      "cell_type": "code",
      "execution_count": null,
      "metadata": {
        "colab": {
          "base_uri": "https://localhost:8080/"
        },
        "id": "_o8FFGy3FEQm",
        "outputId": "b7bcf109-32b5-4f99-ebc3-8e7be08cc103"
      },
      "outputs": [
        {
          "name": "stdout",
          "output_type": "stream",
          "text": [
            "[ 20  39  46  99 100 103 106 124 128 169 172 178 182 188 193 200 212 232\n",
            " 238 244 248 251 254 261 265 267 269 277 285 287 299 329 332 334]\n"
          ]
        }
      ],
      "source": [
        "from sklearn.model_selection import KFold, cross_val_score\n",
        "from sklearn.model_selection import KFold\n",
        "KFold\n",
        "\n",
        "seed=4\n",
        "kfold=KFold(10,shuffle=True,random_state=seed)\n",
        "i=0\n",
        "for tr, ts in kfold.split(df):\n",
        "  train=df.iloc[tr]\n",
        "  test=df.iloc[ts]\n",
        "  tr_data_X=train.iloc[:,:-1]\n",
        "  tr_data_Y=train.iloc[:,-1]\n",
        "  ts_data_X=test.iloc[:,:-1]\n",
        "  ts_data_Y=test.iloc[:,-1]\n",
        "  if (i==2):\n",
        "\n",
        "     np.savetxt('/content/drive/MyDrive/sbg_pce/generated pce/generated_train_2.csv',train,delimiter=\",\")\n",
        "     np.savetxt('/content/drive/MyDrive/sbg_pce/generated pce/generated_test_2.csv',test, delimiter=\",\")\n",
        "\n",
        "     print(ts)\n",
        "  i=i+1"
      ]
    },
    {
      "cell_type": "code",
      "execution_count": null,
      "metadata": {
        "colab": {
          "base_uri": "https://localhost:8080/"
        },
        "id": "inUkOSukGFG4",
        "outputId": "790be867-6750-46cf-ee52-f74a1ecbfde6"
      },
      "outputs": [
        {
          "name": "stdout",
          "output_type": "stream",
          "text": [
            "[[1.750e+00 4.500e-01 2.000e-01 0.000e+00 1.000e+03 3.270e+01]\n",
            " [1.750e+00 4.500e-01 2.000e-01 0.000e+00 5.000e+02 2.890e+01]\n",
            " [1.750e+00 4.500e-01 2.000e-01 0.000e+00 3.000e+02 2.420e+01]\n",
            " ...\n",
            " [1.800e+00 5.000e-01 8.000e-01 2.000e+00 2.000e+02 2.521e+01]\n",
            " [1.800e+00 5.000e-01 8.000e-01 2.000e+00 5.000e+02 2.669e+01]\n",
            " [1.800e+00 5.000e-01 8.000e-01 2.000e+00 1.000e+03 3.073e+01]]\n",
            "(304, 6)\n"
          ]
        }
      ],
      "source": [
        "training_data_df=pd.read_csv('/content/drive/MyDrive/sbg_pce/generated pce/generated_train_2.csv',header=None)\n",
        "training_data=training_data_df.to_numpy()\n",
        "print(training_data)\n",
        "print(training_data.shape)"
      ]
    },
    {
      "cell_type": "code",
      "execution_count": null,
      "metadata": {
        "colab": {
          "base_uri": "https://localhost:8080/"
        },
        "id": "0g0O94NCGO84",
        "outputId": "bfd40048-63e4-4446-a66c-df80fe626890"
      },
      "outputs": [
        {
          "name": "stdout",
          "output_type": "stream",
          "text": [
            "[[ 1.750e+00  1.490e+00 -4.400e-01  2.000e+00  4.000e+02  2.886e+01]\n",
            " [ 1.800e+00  5.000e-01  5.000e-01  2.000e+00  1.000e+03  2.308e+01]\n",
            " [ 1.300e+00  5.000e-01  2.000e-01  2.000e+00  1.000e+03  1.045e+01]\n",
            " [ 1.530e+00  2.000e-01 -1.300e-01  2.000e+00  1.000e+03  3.590e+01]\n",
            " [ 1.530e+00  2.000e-01 -4.100e-01  2.000e+00  1.000e+03  3.480e+01]\n",
            " [ 1.530e+00  2.000e-01  4.300e-01  2.000e+00  2.000e+02  1.740e+01]\n",
            " [ 1.900e+00  2.400e-01  9.600e-01  2.000e+00  5.000e+02  2.669e+01]\n",
            " [ 1.720e+00  5.000e-01  4.100e-01  2.000e+00  1.000e+03  3.900e+00]\n",
            " [ 1.620e+00  6.400e-01  2.800e-01  2.000e+00  1.000e+03  2.574e+01]\n",
            " [ 1.780e+00  6.100e-01  3.700e-01  2.000e+00  2.000e+03  2.222e+01]\n",
            " [ 1.590e+00  5.000e-01  2.900e-01  2.000e+00  6.000e+02  2.278e+01]\n",
            " [ 1.660e+00  5.300e-01  3.300e-01  2.000e+00  6.000e+02  2.467e+01]\n",
            " [ 1.200e+00  4.500e-01  2.500e-01  2.000e+00  1.000e+02  1.860e+01]\n",
            " [ 1.200e+00  4.500e-01  5.000e-01  2.000e+00  1.000e+02  5.800e+00]\n",
            " [ 1.200e+00  4.500e-01  5.000e-01  2.000e+00  8.000e+02  1.290e+01]\n",
            " [ 1.500e+00  2.500e-01  3.500e-01  2.000e+00  2.000e+02  1.080e+01]\n",
            " [ 1.700e+00  3.900e-01  8.000e-01  1.000e+00  4.000e+02  5.850e+00]\n",
            " [ 1.530e+00  2.000e-01  6.300e-01  2.000e+00  5.000e+02  1.750e+01]\n",
            " [ 1.530e+00  2.000e-01  4.300e-01  0.000e+00  2.000e+02  2.400e+01]\n",
            " [ 1.680e+00  2.500e-01  3.300e-01  2.000e+00  1.000e+03  3.282e+01]\n",
            " [ 1.630e+00  6.500e-01  2.800e-01  2.000e+00  4.000e+02  2.333e+01]\n",
            " [ 1.630e+00  6.500e-01  2.800e-01  2.000e+00  1.000e+03  2.574e+01]\n",
            " [ 1.300e+00  5.000e-01  2.000e-01  2.000e+00  1.000e+03  1.045e+01]\n",
            " [ 1.640e+00  6.400e-01  2.800e-01  2.000e+00  8.000e+02  2.556e+01]\n",
            " [ 1.530e+00  2.000e-01  6.300e-01  2.000e+00  1.000e+03  2.700e+01]\n",
            " [ 1.530e+00  4.000e-01  3.300e-01  2.000e+00  1.000e+03  2.630e+01]\n",
            " [ 1.530e+00  2.000e-01  6.300e-01  2.000e+00  5.550e+02  3.388e+01]\n",
            " [ 1.200e+00  3.000e-01  1.000e-01  2.000e+00  5.000e+02  3.459e+01]\n",
            " [ 1.530e+00  1.900e-01  1.900e-01  2.000e+00  8.000e+02  2.556e+01]\n",
            " [ 1.900e+00  5.000e-01  6.000e-01  2.000e+00  1.000e+03  1.905e+01]\n",
            " [ 1.600e+00  8.000e-01  3.000e-01  2.000e+00  1.000e+02  5.800e+00]\n",
            " [ 1.800e+00  3.000e-01  6.000e-01  2.000e+00  2.200e+02  1.990e+01]\n",
            " [ 1.800e+00  3.000e-01  6.000e-01  0.000e+00  3.210e+02  2.030e+01]\n",
            " [ 1.530e+00  3.600e-01  5.700e-01  2.000e+00  1.000e+03  1.780e+01]]\n",
            "(34, 6)\n"
          ]
        }
      ],
      "source": [
        "test_data_df=pd.read_csv(\"/content/drive/MyDrive/sbg_pce/generated pce/generated_test_2.csv\",header=None)\n",
        "test_data=test_data_df.to_numpy()\n",
        "print(test_data)\n",
        "print(test_data.shape)"
      ]
    },
    {
      "cell_type": "code",
      "execution_count": null,
      "metadata": {
        "colab": {
          "base_uri": "https://localhost:8080/"
        },
        "id": "oG6k6R1PGbtB",
        "outputId": "a3894db1-bd5d-4e8b-f8e6-9a9188f1e631"
      },
      "outputs": [
        {
          "name": "stdout",
          "output_type": "stream",
          "text": [
            "(34,)\n"
          ]
        }
      ],
      "source": [
        "ts_data_X=test_data[:,:-1]\n",
        "ts_data_Y=test_data[:,-1]\n",
        "print(ts_data_Y.shape)"
      ]
    },
    {
      "cell_type": "code",
      "execution_count": null,
      "metadata": {
        "colab": {
          "base_uri": "https://localhost:8080/",
          "height": 74
        },
        "id": "6cxXcxqAGe0V",
        "outputId": "61e412f9-8b38-4c52-c4f9-108b3fa9e15c"
      },
      "outputs": [
        {
          "data": {
            "text/html": [
              "<style>#sk-container-id-8 {color: black;background-color: white;}#sk-container-id-8 pre{padding: 0;}#sk-container-id-8 div.sk-toggleable {background-color: white;}#sk-container-id-8 label.sk-toggleable__label {cursor: pointer;display: block;width: 100%;margin-bottom: 0;padding: 0.3em;box-sizing: border-box;text-align: center;}#sk-container-id-8 label.sk-toggleable__label-arrow:before {content: \"▸\";float: left;margin-right: 0.25em;color: #696969;}#sk-container-id-8 label.sk-toggleable__label-arrow:hover:before {color: black;}#sk-container-id-8 div.sk-estimator:hover label.sk-toggleable__label-arrow:before {color: black;}#sk-container-id-8 div.sk-toggleable__content {max-height: 0;max-width: 0;overflow: hidden;text-align: left;background-color: #f0f8ff;}#sk-container-id-8 div.sk-toggleable__content pre {margin: 0.2em;color: black;border-radius: 0.25em;background-color: #f0f8ff;}#sk-container-id-8 input.sk-toggleable__control:checked~div.sk-toggleable__content {max-height: 200px;max-width: 100%;overflow: auto;}#sk-container-id-8 input.sk-toggleable__control:checked~label.sk-toggleable__label-arrow:before {content: \"▾\";}#sk-container-id-8 div.sk-estimator input.sk-toggleable__control:checked~label.sk-toggleable__label {background-color: #d4ebff;}#sk-container-id-8 div.sk-label input.sk-toggleable__control:checked~label.sk-toggleable__label {background-color: #d4ebff;}#sk-container-id-8 input.sk-hidden--visually {border: 0;clip: rect(1px 1px 1px 1px);clip: rect(1px, 1px, 1px, 1px);height: 1px;margin: -1px;overflow: hidden;padding: 0;position: absolute;width: 1px;}#sk-container-id-8 div.sk-estimator {font-family: monospace;background-color: #f0f8ff;border: 1px dotted black;border-radius: 0.25em;box-sizing: border-box;margin-bottom: 0.5em;}#sk-container-id-8 div.sk-estimator:hover {background-color: #d4ebff;}#sk-container-id-8 div.sk-parallel-item::after {content: \"\";width: 100%;border-bottom: 1px solid gray;flex-grow: 1;}#sk-container-id-8 div.sk-label:hover label.sk-toggleable__label {background-color: #d4ebff;}#sk-container-id-8 div.sk-serial::before {content: \"\";position: absolute;border-left: 1px solid gray;box-sizing: border-box;top: 0;bottom: 0;left: 50%;z-index: 0;}#sk-container-id-8 div.sk-serial {display: flex;flex-direction: column;align-items: center;background-color: white;padding-right: 0.2em;padding-left: 0.2em;position: relative;}#sk-container-id-8 div.sk-item {position: relative;z-index: 1;}#sk-container-id-8 div.sk-parallel {display: flex;align-items: stretch;justify-content: center;background-color: white;position: relative;}#sk-container-id-8 div.sk-item::before, #sk-container-id-8 div.sk-parallel-item::before {content: \"\";position: absolute;border-left: 1px solid gray;box-sizing: border-box;top: 0;bottom: 0;left: 50%;z-index: -1;}#sk-container-id-8 div.sk-parallel-item {display: flex;flex-direction: column;z-index: 1;position: relative;background-color: white;}#sk-container-id-8 div.sk-parallel-item:first-child::after {align-self: flex-end;width: 50%;}#sk-container-id-8 div.sk-parallel-item:last-child::after {align-self: flex-start;width: 50%;}#sk-container-id-8 div.sk-parallel-item:only-child::after {width: 0;}#sk-container-id-8 div.sk-dashed-wrapped {border: 1px dashed gray;margin: 0 0.4em 0.5em 0.4em;box-sizing: border-box;padding-bottom: 0.4em;background-color: white;}#sk-container-id-8 div.sk-label label {font-family: monospace;font-weight: bold;display: inline-block;line-height: 1.2em;}#sk-container-id-8 div.sk-label-container {text-align: center;}#sk-container-id-8 div.sk-container {/* jupyter's `normalize.less` sets `[hidden] { display: none; }` but bootstrap.min.css set `[hidden] { display: none !important; }` so we also need the `!important` here to be able to override the default hidden behavior on the sphinx rendered scikit-learn.org. See: https://github.com/scikit-learn/scikit-learn/issues/21755 */display: inline-block !important;position: relative;}#sk-container-id-8 div.sk-text-repr-fallback {display: none;}</style><div id=\"sk-container-id-8\" class=\"sk-top-container\"><div class=\"sk-text-repr-fallback\"><pre>LinearRegression()</pre><b>In a Jupyter environment, please rerun this cell to show the HTML representation or trust the notebook. <br />On GitHub, the HTML representation is unable to render, please try loading this page with nbviewer.org.</b></div><div class=\"sk-container\" hidden><div class=\"sk-item\"><div class=\"sk-estimator sk-toggleable\"><input class=\"sk-toggleable__control sk-hidden--visually\" id=\"sk-estimator-id-8\" type=\"checkbox\" checked><label for=\"sk-estimator-id-8\" class=\"sk-toggleable__label sk-toggleable__label-arrow\">LinearRegression</label><div class=\"sk-toggleable__content\"><pre>LinearRegression()</pre></div></div></div></div></div>"
            ],
            "text/plain": [
              "LinearRegression()"
            ]
          },
          "execution_count": 98,
          "metadata": {},
          "output_type": "execute_result"
        }
      ],
      "source": [
        "import time\n",
        "st = time.time()\n",
        "from sklearn.linear_model import LinearRegression\n",
        "lr = LinearRegression()\n",
        "lr.fit( tr_data_X,  tr_data_Y)"
      ]
    },
    {
      "cell_type": "code",
      "execution_count": null,
      "metadata": {
        "colab": {
          "base_uri": "https://localhost:8080/"
        },
        "id": "wE1MuB2LGpEk",
        "outputId": "091023df-176d-44de-8424-012397e20787"
      },
      "outputs": [
        {
          "name": "stdout",
          "output_type": "stream",
          "text": [
            "LR: 0.021777629852294922 seconds\n"
          ]
        },
        {
          "data": {
            "text/plain": [
              "(34,)"
            ]
          },
          "execution_count": 99,
          "metadata": {},
          "output_type": "execute_result"
        }
      ],
      "source": [
        "y_pred_lr =lr.predict(ts_data_X)\n",
        "et = time.time()\n",
        "elapsed_time = et - st\n",
        "print('LR:', elapsed_time, 'seconds')\n",
        "\n",
        "y_pred_lr.shape"
      ]
    },
    {
      "cell_type": "code",
      "execution_count": null,
      "metadata": {
        "id": "g29l_BSdGp9p"
      },
      "outputs": [],
      "source": [
        "from sklearn.metrics import r2_score,mean_squared_error\n",
        "score_lr=r2_score(ts_data_Y, y_pred_lr)\n",
        "mse_lr=mean_squared_error(ts_data_Y, y_pred_lr)\n",
        "import scipy\n",
        "r_lr=scipy.stats.pearsonr(ts_data_Y,y_pred_lr)"
      ]
    },
    {
      "cell_type": "code",
      "execution_count": null,
      "metadata": {
        "colab": {
          "base_uri": "https://localhost:8080/"
        },
        "id": "ZV0RyN0gGvGl",
        "outputId": "8eca07d5-9281-436a-cd24-403e592ccf7c"
      },
      "outputs": [
        {
          "name": "stdout",
          "output_type": "stream",
          "text": [
            "R2_LR= 0.2216936757068303\n",
            "mse_LR= 59.66194358425846\n",
            "R score_LR= 0.48192765085617223\n"
          ]
        }
      ],
      "source": [
        "print('R2_LR=',score_lr)\n",
        "print('mse_LR=',mse_lr)\n",
        "print('R score_LR=',r_lr[0])"
      ]
    },
    {
      "cell_type": "code",
      "execution_count": null,
      "metadata": {
        "colab": {
          "base_uri": "https://localhost:8080/",
          "height": 74
        },
        "id": "sVibZitXGxe3",
        "outputId": "df88d161-f495-4cee-c1c8-4a764be71150"
      },
      "outputs": [
        {
          "data": {
            "text/html": [
              "<style>#sk-container-id-9 {color: black;background-color: white;}#sk-container-id-9 pre{padding: 0;}#sk-container-id-9 div.sk-toggleable {background-color: white;}#sk-container-id-9 label.sk-toggleable__label {cursor: pointer;display: block;width: 100%;margin-bottom: 0;padding: 0.3em;box-sizing: border-box;text-align: center;}#sk-container-id-9 label.sk-toggleable__label-arrow:before {content: \"▸\";float: left;margin-right: 0.25em;color: #696969;}#sk-container-id-9 label.sk-toggleable__label-arrow:hover:before {color: black;}#sk-container-id-9 div.sk-estimator:hover label.sk-toggleable__label-arrow:before {color: black;}#sk-container-id-9 div.sk-toggleable__content {max-height: 0;max-width: 0;overflow: hidden;text-align: left;background-color: #f0f8ff;}#sk-container-id-9 div.sk-toggleable__content pre {margin: 0.2em;color: black;border-radius: 0.25em;background-color: #f0f8ff;}#sk-container-id-9 input.sk-toggleable__control:checked~div.sk-toggleable__content {max-height: 200px;max-width: 100%;overflow: auto;}#sk-container-id-9 input.sk-toggleable__control:checked~label.sk-toggleable__label-arrow:before {content: \"▾\";}#sk-container-id-9 div.sk-estimator input.sk-toggleable__control:checked~label.sk-toggleable__label {background-color: #d4ebff;}#sk-container-id-9 div.sk-label input.sk-toggleable__control:checked~label.sk-toggleable__label {background-color: #d4ebff;}#sk-container-id-9 input.sk-hidden--visually {border: 0;clip: rect(1px 1px 1px 1px);clip: rect(1px, 1px, 1px, 1px);height: 1px;margin: -1px;overflow: hidden;padding: 0;position: absolute;width: 1px;}#sk-container-id-9 div.sk-estimator {font-family: monospace;background-color: #f0f8ff;border: 1px dotted black;border-radius: 0.25em;box-sizing: border-box;margin-bottom: 0.5em;}#sk-container-id-9 div.sk-estimator:hover {background-color: #d4ebff;}#sk-container-id-9 div.sk-parallel-item::after {content: \"\";width: 100%;border-bottom: 1px solid gray;flex-grow: 1;}#sk-container-id-9 div.sk-label:hover label.sk-toggleable__label {background-color: #d4ebff;}#sk-container-id-9 div.sk-serial::before {content: \"\";position: absolute;border-left: 1px solid gray;box-sizing: border-box;top: 0;bottom: 0;left: 50%;z-index: 0;}#sk-container-id-9 div.sk-serial {display: flex;flex-direction: column;align-items: center;background-color: white;padding-right: 0.2em;padding-left: 0.2em;position: relative;}#sk-container-id-9 div.sk-item {position: relative;z-index: 1;}#sk-container-id-9 div.sk-parallel {display: flex;align-items: stretch;justify-content: center;background-color: white;position: relative;}#sk-container-id-9 div.sk-item::before, #sk-container-id-9 div.sk-parallel-item::before {content: \"\";position: absolute;border-left: 1px solid gray;box-sizing: border-box;top: 0;bottom: 0;left: 50%;z-index: -1;}#sk-container-id-9 div.sk-parallel-item {display: flex;flex-direction: column;z-index: 1;position: relative;background-color: white;}#sk-container-id-9 div.sk-parallel-item:first-child::after {align-self: flex-end;width: 50%;}#sk-container-id-9 div.sk-parallel-item:last-child::after {align-self: flex-start;width: 50%;}#sk-container-id-9 div.sk-parallel-item:only-child::after {width: 0;}#sk-container-id-9 div.sk-dashed-wrapped {border: 1px dashed gray;margin: 0 0.4em 0.5em 0.4em;box-sizing: border-box;padding-bottom: 0.4em;background-color: white;}#sk-container-id-9 div.sk-label label {font-family: monospace;font-weight: bold;display: inline-block;line-height: 1.2em;}#sk-container-id-9 div.sk-label-container {text-align: center;}#sk-container-id-9 div.sk-container {/* jupyter's `normalize.less` sets `[hidden] { display: none; }` but bootstrap.min.css set `[hidden] { display: none !important; }` so we also need the `!important` here to be able to override the default hidden behavior on the sphinx rendered scikit-learn.org. See: https://github.com/scikit-learn/scikit-learn/issues/21755 */display: inline-block !important;position: relative;}#sk-container-id-9 div.sk-text-repr-fallback {display: none;}</style><div id=\"sk-container-id-9\" class=\"sk-top-container\"><div class=\"sk-text-repr-fallback\"><pre>DecisionTreeRegressor(random_state=0)</pre><b>In a Jupyter environment, please rerun this cell to show the HTML representation or trust the notebook. <br />On GitHub, the HTML representation is unable to render, please try loading this page with nbviewer.org.</b></div><div class=\"sk-container\" hidden><div class=\"sk-item\"><div class=\"sk-estimator sk-toggleable\"><input class=\"sk-toggleable__control sk-hidden--visually\" id=\"sk-estimator-id-9\" type=\"checkbox\" checked><label for=\"sk-estimator-id-9\" class=\"sk-toggleable__label sk-toggleable__label-arrow\">DecisionTreeRegressor</label><div class=\"sk-toggleable__content\"><pre>DecisionTreeRegressor(random_state=0)</pre></div></div></div></div></div>"
            ],
            "text/plain": [
              "DecisionTreeRegressor(random_state=0)"
            ]
          },
          "execution_count": 102,
          "metadata": {},
          "output_type": "execute_result"
        }
      ],
      "source": [
        "import time\n",
        "st = time.time()\n",
        "from sklearn.tree import DecisionTreeRegressor\n",
        "regressor = DecisionTreeRegressor(random_state = 0)\n",
        "regressor.fit(tr_data_X, tr_data_Y)"
      ]
    },
    {
      "cell_type": "code",
      "execution_count": null,
      "metadata": {
        "colab": {
          "base_uri": "https://localhost:8080/"
        },
        "id": "haa_lLeFG1Fa",
        "outputId": "44b35710-ffd4-46d9-f6a5-d3fc2c650124"
      },
      "outputs": [
        {
          "name": "stdout",
          "output_type": "stream",
          "text": [
            "DTR: 0.020736217498779297 seconds\n"
          ]
        },
        {
          "data": {
            "text/plain": [
              "array([28.86      , 23.08      , 10.45      , 35.9       , 34.8       ,\n",
              "       16.69285714, 26.69      ,  3.9       , 25.74      , 22.22      ,\n",
              "       22.78      , 24.67      , 18.6       ,  5.8       , 10.2       ,\n",
              "       10.8       ,  5.85      , 17.5       , 24.        , 32.82      ,\n",
              "       23.33      , 25.74      , 10.45      , 25.56      , 25.85      ,\n",
              "       26.3       , 33.88      , 34.59      , 25.56      , 19.05      ,\n",
              "        5.8       , 19.9       , 20.3       , 17.8       ])"
            ]
          },
          "execution_count": 103,
          "metadata": {},
          "output_type": "execute_result"
        }
      ],
      "source": [
        "y_pred_dtr =regressor.predict(ts_data_X)\n",
        "et = time.time()\n",
        "elapsed_time = et - st\n",
        "print('DTR:', elapsed_time, 'seconds')\n",
        "y_pred_dtr"
      ]
    },
    {
      "cell_type": "code",
      "execution_count": null,
      "metadata": {
        "colab": {
          "base_uri": "https://localhost:8080/"
        },
        "id": "fQGbnCfsG3tk",
        "outputId": "1069b45e-ee48-47de-d785-84dbe26e5c48"
      },
      "outputs": [
        {
          "data": {
            "text/plain": [
              "array([28.86, 23.08, 10.45, 35.9 , 34.8 , 17.4 , 26.69,  3.9 , 25.74,\n",
              "       22.22, 22.78, 24.67, 18.6 ,  5.8 , 12.9 , 10.8 ,  5.85, 17.5 ,\n",
              "       24.  , 32.82, 23.33, 25.74, 10.45, 25.56, 27.  , 26.3 , 33.88,\n",
              "       34.59, 25.56, 19.05,  5.8 , 19.9 , 20.3 , 17.8 ])"
            ]
          },
          "execution_count": 104,
          "metadata": {},
          "output_type": "execute_result"
        }
      ],
      "source": [
        "ts_data_Y"
      ]
    },
    {
      "cell_type": "code",
      "execution_count": null,
      "metadata": {
        "id": "dHp-QilMG71_"
      },
      "outputs": [],
      "source": [
        "from sklearn.metrics import r2_score,mean_squared_error,mean_absolute_percentage_error,fowlkes_mallows_score,mean_squared_log_error\n",
        "score_dtr=r2_score(ts_data_Y, y_pred_dtr)\n",
        "mse_dtr=mean_squared_error(ts_data_Y, y_pred_dtr)\n",
        "mape_dtr=mean_absolute_percentage_error(ts_data_Y, y_pred_dtr)\n",
        "mallow_dtr=fowlkes_mallows_score(ts_data_Y, y_pred_dtr)\n",
        "mslr_dtr=mean_squared_log_error(ts_data_Y, y_pred_dtr)\n",
        "import scipy\n",
        "r_dtr=scipy.stats.pearsonr(ts_data_Y,y_pred_dtr)"
      ]
    },
    {
      "cell_type": "code",
      "execution_count": null,
      "metadata": {
        "colab": {
          "base_uri": "https://localhost:8080/"
        },
        "id": "6jEisSuLG-MH",
        "outputId": "317077cf-8ad4-4966-a7c0-d8f6b9b945da"
      },
      "outputs": [
        {
          "name": "stdout",
          "output_type": "stream",
          "text": [
            "R2_dtr= 0.9965036554965081\n",
            "mse_dtr= 0.268016206482593\n",
            "R score_dtr= 0.9984198201453158\n",
            "MAPE_dtr= 0.008603979772431113\n",
            "mallow_dtr= 1.0\n",
            "mslr_dtr 0.0014688208900525569\n"
          ]
        }
      ],
      "source": [
        "print('R2_dtr=',score_dtr)\n",
        "print('mse_dtr=',mse_dtr)\n",
        "print('R score_dtr=',r_dtr[0])\n",
        "print('MAPE_dtr=',mape_dtr)\n",
        "print('mallow_dtr=',mallow_dtr)\n",
        "print('mslr_dtr',mslr_dtr)"
      ]
    },
    {
      "cell_type": "code",
      "execution_count": null,
      "metadata": {
        "colab": {
          "base_uri": "https://localhost:8080/"
        },
        "id": "303yjmjiNM_B",
        "outputId": "a28b122e-b092-488f-ed1f-5ee3bded70db"
      },
      "outputs": [
        {
          "name": "stdout",
          "output_type": "stream",
          "text": [
            "['STIXGeneral', 'DejaVu Serif', 'DejaVu Sans Display', 'STIXNonUnicode', 'cmsy10', 'DejaVu Serif', 'DejaVu Serif Display', 'cmex10', 'STIXGeneral', 'cmmi10', 'STIXSizeTwoSym', 'cmtt10', 'DejaVu Sans Mono', 'cmss10', 'STIXSizeTwoSym', 'STIXNonUnicode', 'STIXSizeFiveSym', 'DejaVu Sans', 'DejaVu Sans', 'DejaVu Sans Mono', 'DejaVu Sans Mono', 'STIXSizeFourSym', 'STIXSizeFourSym', 'STIXSizeThreeSym', 'DejaVu Serif', 'STIXGeneral', 'STIXSizeOneSym', 'cmb10', 'STIXNonUnicode', 'DejaVu Sans Mono', 'STIXSizeOneSym', 'DejaVu Sans', 'DejaVu Serif', 'DejaVu Sans', 'STIXSizeThreeSym', 'cmr10', 'STIXGeneral', 'STIXNonUnicode', 'Liberation Sans', 'Liberation Mono', 'Liberation Serif', 'Humor Sans', 'Liberation Sans', 'Liberation Sans Narrow', 'Liberation Sans Narrow', 'Liberation Sans', 'Liberation Serif', 'Liberation Mono', 'Liberation Sans Narrow', 'Liberation Sans', 'Liberation Mono', 'Liberation Serif', 'Liberation Serif', 'Liberation Mono', 'Liberation Sans Narrow']\n"
          ]
        }
      ],
      "source": [
        "import matplotlib.font_manager as font_manager\n",
        "\n",
        "# List all the available font names on your system\n",
        "font_names = [f.name for f in font_manager.fontManager.ttflist]\n",
        "print(font_names)\n"
      ]
    },
    {
      "cell_type": "code",
      "execution_count": null,
      "metadata": {
        "colab": {
          "base_uri": "https://localhost:8080/",
          "height": 506
        },
        "id": "ksTI88KVHB3z",
        "outputId": "0e6a5aed-672f-42d8-cfb3-c2c8e26f44b5"
      },
      "outputs": [
        {
          "data": {
            "text/plain": [
              "Text(0.5, 1.0, 'Decisiontree regressor plot')"
            ]
          },
          "execution_count": 108,
          "metadata": {},
          "output_type": "execute_result"
        },
        {
          "data": {
            "image/png": "[encoded data removed]",
            "text/plain": [
              "<Figure size 640x480 with 1 Axes>"
            ]
          },
          "metadata": {},
          "output_type": "display_data"
        }
      ],
      "source": [
        "import warnings\n",
        "warnings.filterwarnings('ignore')\n",
        "sns.scatterplot(x=ts_data_Y,y=y_pred_dtr,c='#008080',edgecolor='black',s=200)\n",
        "font1={'family':'STIXGeneral','color':'#6f045a','fontweight':'bold','size':18}\n",
        "plt.yticks(np.arange(0,40,5),color='navy',fontweight='bold',size=15)\n",
        "plt.xticks(np.arange(0,40,5),color='navy',fontweight='bold',size=15)\n",
        "plt.xlabel('Actual pce',fontdict=font1)\n",
        "plt.ylabel('Precicted pce',fontdict=font1)\n",
        "plt.title('Decisiontree regressor plot',c='#6f045a',fontdict=font1)"
      ]
    },
    {
      "cell_type": "code",
      "execution_count": null,
      "metadata": {
        "colab": {
          "base_uri": "https://localhost:8080/"
        },
        "id": "G_o3M-bz9Jsr",
        "outputId": "8289c2c1-46de-4e9c-87bf-65ae9b4a59bf"
      },
      "outputs": [
        {
          "data": {
            "text/plain": [
              "array([ 1.0070301 , -0.28291037])"
            ]
          },
          "execution_count": 109,
          "metadata": {},
          "output_type": "execute_result"
        }
      ],
      "source": [
        "reg=np.polyfit(ts_data_Y,y_pred_dtr,deg=1)\n",
        "reg"
      ]
    },
    {
      "cell_type": "code",
      "execution_count": null,
      "metadata": {
        "colab": {
          "base_uri": "https://localhost:8080/",
          "height": 618
        },
        "id": "lYp-QI-w_ozv",
        "outputId": "3d2f9a00-790e-448c-f203-3c366f92d266"
      },
      "outputs": [
        {
          "name": "stderr",
          "output_type": "stream",
          "text": [
            "WARNING:matplotlib.font_manager:findfont: Font family 'calibari' not found.\n",
            "WARNING:matplotlib.font_manager:findfont: Font family 'calibari' not found.\n",
            "WARNING:matplotlib.font_manager:findfont: Font family 'calibari' not found.\n",
            "WARNING:matplotlib.font_manager:findfont: Font family 'calibari' not found.\n",
            "WARNING:matplotlib.font_manager:findfont: Font family 'calibari' not found.\n",
            "WARNING:matplotlib.font_manager:findfont: Font family 'calibari' not found.\n",
            "WARNING:matplotlib.font_manager:findfont: Font family 'calibari' not found.\n",
            "WARNING:matplotlib.font_manager:findfont: Font family 'calibari' not found.\n"
          ]
        },
        {
          "data": {
            "image/png": "[encoded data removed]",
            "text/plain": [
              "<Figure size 800x500 with 1 Axes>"
            ]
          },
          "metadata": {},
          "output_type": "display_data"
        }
      ],
      "source": [
        "import warnings\n",
        "import numpy as np\n",
        "import seaborn as sns\n",
        "import matplotlib.pyplot as plt\n",
        "import matplotlib as mpl\n",
        "\n",
        "# Ignore warnings\n",
        "warnings.filterwarnings('ignore')\n",
        "\n",
        "# Assuming you have defined 'ts_data_Y' and 'y_pred_dtr' before this code snippet\n",
        "\n",
        "# Perform linear regression and obtain the coefficients\n",
        "reg = np.polyfit(ts_data_Y, y_pred_dtr, deg=1)\n",
        "slope = reg[0]\n",
        "intercept = reg[1]\n",
        "\n",
        "# Generate the trend line for linear regression\n",
        "trend = slope * ts_data_Y + intercept\n",
        "\n",
        "# Set the style to a light blue or cyan background color\n",
        "plt.figure(figsize=(8, 5))\n",
        "sns.set_style({'axes.facecolor': '#E0FFFF'})  # Set your desired color here\n",
        "\n",
        "# Plot the scatter plot with the specified background color\n",
        "sns.scatterplot(x=ts_data_Y, y=y_pred_dtr, c='yellow', marker='*', edgecolor='black', s=300)\n",
        "mpl.rcParams['axes.linewidth'] = 2.5\n",
        "mpl.rcParams['xtick.major.width'] = 2.5  # Set your desired x-axis tick thickness here\n",
        "mpl.rcParams['ytick.major.width'] = 2.5\n",
        "# Plot the trend line\n",
        "plt.plot(ts_data_Y, trend, color='red', linewidth=2)\n",
        "\n",
        "# Customize the plot (xticks, yticks, labels, title, etc.)\n",
        "font1 = {'family': 'calibari', 'color': 'black', 'fontweight': 'bold', 'size': 18}\n",
        "plt.yticks(color='navy', fontweight='bold', size=12)\n",
        "plt.xlim(0, max(ts_data_Y) + 1)\n",
        "plt.ylim(0, max(y_pred_dtr) + 1)\n",
        "plt.xticks(color='navy', fontweight='bold', size=12)\n",
        "plt.xlabel('True PCE(%)', fontdict=font1)\n",
        "plt.ylabel('Predicted PCE(%)', fontdict=font1)\n",
        "# plt.title('Decisiontree regressor Plot', c='#6f045a', fontdict=font1)\n",
        "\n",
        "# Show the plot\n",
        "plt.show()\n"
      ]
    },
    {
      "cell_type": "code",
      "execution_count": null,
      "metadata": {
        "colab": {
          "base_uri": "https://localhost:8080/"
        },
        "id": "riSR_To2BpDe",
        "outputId": "74ad868a-af17-4ebb-d3e0-9a8faccdee6d"
      },
      "outputs": [
        {
          "data": {
            "text/plain": [
              "array([ 1.0070301 , -0.28291037])"
            ]
          },
          "execution_count": 111,
          "metadata": {},
          "output_type": "execute_result"
        }
      ],
      "source": [
        "reg"
      ]
    },
    {
      "cell_type": "code",
      "execution_count": null,
      "metadata": {
        "id": "2w0FcSYFHY_m"
      },
      "outputs": [],
      "source": [
        "import time\n",
        "st = time.time()\n",
        "import xgboost as xgb\n",
        "reg = xgb.XGBRegressor(\n",
        "    n_estimators=100,\n",
        "    reg_lambda=1,\n",
        "    gamma=0,\n",
        "    max_depth=4\n",
        ")"
      ]
    },
    {
      "cell_type": "code",
      "execution_count": null,
      "metadata": {
        "colab": {
          "base_uri": "https://localhost:8080/",
          "height": 248
        },
        "id": "I4AlD9cWOEau",
        "outputId": "ff5a1a7b-83cb-4769-962e-3c3300d75979"
      },
      "outputs": [
        {
          "data": {
            "text/html": [
              "<style>#sk-container-id-10 {color: black;background-color: white;}#sk-container-id-10 pre{padding: 0;}#sk-container-id-10 div.sk-toggleable {background-color: white;}#sk-container-id-10 label.sk-toggleable__label {cursor: pointer;display: block;width: 100%;margin-bottom: 0;padding: 0.3em;box-sizing: border-box;text-align: center;}#sk-container-id-10 label.sk-toggleable__label-arrow:before {content: \"▸\";float: left;margin-right: 0.25em;color: #696969;}#sk-container-id-10 label.sk-toggleable__label-arrow:hover:before {color: black;}#sk-container-id-10 div.sk-estimator:hover label.sk-toggleable__label-arrow:before {color: black;}#sk-container-id-10 div.sk-toggleable__content {max-height: 0;max-width: 0;overflow: hidden;text-align: left;background-color: #f0f8ff;}#sk-container-id-10 div.sk-toggleable__content pre {margin: 0.2em;color: black;border-radius: 0.25em;background-color: #f0f8ff;}#sk-container-id-10 input.sk-toggleable__control:checked~div.sk-toggleable__content {max-height: 200px;max-width: 100%;overflow: auto;}#sk-container-id-10 input.sk-toggleable__control:checked~label.sk-toggleable__label-arrow:before {content: \"▾\";}#sk-container-id-10 div.sk-estimator input.sk-toggleable__control:checked~label.sk-toggleable__label {background-color: #d4ebff;}#sk-container-id-10 div.sk-label input.sk-toggleable__control:checked~label.sk-toggleable__label {background-color: #d4ebff;}#sk-container-id-10 input.sk-hidden--visually {border: 0;clip: rect(1px 1px 1px 1px);clip: rect(1px, 1px, 1px, 1px);height: 1px;margin: -1px;overflow: hidden;padding: 0;position: absolute;width: 1px;}#sk-container-id-10 div.sk-estimator {font-family: monospace;background-color: #f0f8ff;border: 1px dotted black;border-radius: 0.25em;box-sizing: border-box;margin-bottom: 0.5em;}#sk-container-id-10 div.sk-estimator:hover {background-color: #d4ebff;}#sk-container-id-10 div.sk-parallel-item::after {content: \"\";width: 100%;border-bottom: 1px solid gray;flex-grow: 1;}#sk-container-id-10 div.sk-label:hover label.sk-toggleable__label {background-color: #d4ebff;}#sk-container-id-10 div.sk-serial::before {content: \"\";position: absolute;border-left: 1px solid gray;box-sizing: border-box;top: 0;bottom: 0;left: 50%;z-index: 0;}#sk-container-id-10 div.sk-serial {display: flex;flex-direction: column;align-items: center;background-color: white;padding-right: 0.2em;padding-left: 0.2em;position: relative;}#sk-container-id-10 div.sk-item {position: relative;z-index: 1;}#sk-container-id-10 div.sk-parallel {display: flex;align-items: stretch;justify-content: center;background-color: white;position: relative;}#sk-container-id-10 div.sk-item::before, #sk-container-id-10 div.sk-parallel-item::before {content: \"\";position: absolute;border-left: 1px solid gray;box-sizing: border-box;top: 0;bottom: 0;left: 50%;z-index: -1;}#sk-container-id-10 div.sk-parallel-item {display: flex;flex-direction: column;z-index: 1;position: relative;background-color: white;}#sk-container-id-10 div.sk-parallel-item:first-child::after {align-self: flex-end;width: 50%;}#sk-container-id-10 div.sk-parallel-item:last-child::after {align-self: flex-start;width: 50%;}#sk-container-id-10 div.sk-parallel-item:only-child::after {width: 0;}#sk-container-id-10 div.sk-dashed-wrapped {border: 1px dashed gray;margin: 0 0.4em 0.5em 0.4em;box-sizing: border-box;padding-bottom: 0.4em;background-color: white;}#sk-container-id-10 div.sk-label label {font-family: monospace;font-weight: bold;display: inline-block;line-height: 1.2em;}#sk-container-id-10 div.sk-label-container {text-align: center;}#sk-container-id-10 div.sk-container {/* jupyter's `normalize.less` sets `[hidden] { display: none; }` but bootstrap.min.css set `[hidden] { display: none !important; }` so we also need the `!important` here to be able to override the default hidden behavior on the sphinx rendered scikit-learn.org. See: https://github.com/scikit-learn/scikit-learn/issues/21755 */display: inline-block !important;position: relative;}#sk-container-id-10 div.sk-text-repr-fallback {display: none;}</style><div id=\"sk-container-id-10\" class=\"sk-top-container\"><div class=\"sk-text-repr-fallback\"><pre>XGBRegressor(base_score=None, booster=None, callbacks=None,\n",
              "             colsample_bylevel=None, colsample_bynode=None,\n",
              "             colsample_bytree=None, early_stopping_rounds=None,\n",
              "             enable_categorical=False, eval_metric=None, feature_types=None,\n",
              "             gamma=0, gpu_id=None, grow_policy=None, importance_type=None,\n",
              "             interaction_constraints=None, learning_rate=None, max_bin=None,\n",
              "             max_cat_threshold=None, max_cat_to_onehot=None,\n",
              "             max_delta_step=None, max_depth=4, max_leaves=None,\n",
              "             min_child_weight=None, missing=nan, monotone_constraints=None,\n",
              "             n_estimators=100, n_jobs=None, num_parallel_tree=None,\n",
              "             predictor=None, random_state=None, ...)</pre><b>In a Jupyter environment, please rerun this cell to show the HTML representation or trust the notebook. <br />On GitHub, the HTML representation is unable to render, please try loading this page with nbviewer.org.</b></div><div class=\"sk-container\" hidden><div class=\"sk-item\"><div class=\"sk-estimator sk-toggleable\"><input class=\"sk-toggleable__control sk-hidden--visually\" id=\"sk-estimator-id-10\" type=\"checkbox\" checked><label for=\"sk-estimator-id-10\" class=\"sk-toggleable__label sk-toggleable__label-arrow\">XGBRegressor</label><div class=\"sk-toggleable__content\"><pre>XGBRegressor(base_score=None, booster=None, callbacks=None,\n",
              "             colsample_bylevel=None, colsample_bynode=None,\n",
              "             colsample_bytree=None, early_stopping_rounds=None,\n",
              "             enable_categorical=False, eval_metric=None, feature_types=None,\n",
              "             gamma=0, gpu_id=None, grow_policy=None, importance_type=None,\n",
              "             interaction_constraints=None, learning_rate=None, max_bin=None,\n",
              "             max_cat_threshold=None, max_cat_to_onehot=None,\n",
              "             max_delta_step=None, max_depth=4, max_leaves=None,\n",
              "             min_child_weight=None, missing=nan, monotone_constraints=None,\n",
              "             n_estimators=100, n_jobs=None, num_parallel_tree=None,\n",
              "             predictor=None, random_state=None, ...)</pre></div></div></div></div></div>"
            ],
            "text/plain": [
              "XGBRegressor(base_score=None, booster=None, callbacks=None,\n",
              "             colsample_bylevel=None, colsample_bynode=None,\n",
              "             colsample_bytree=None, early_stopping_rounds=None,\n",
              "             enable_categorical=False, eval_metric=None, feature_types=None,\n",
              "             gamma=0, gpu_id=None, grow_policy=None, importance_type=None,\n",
              "             interaction_constraints=None, learning_rate=None, max_bin=None,\n",
              "             max_cat_threshold=None, max_cat_to_onehot=None,\n",
              "             max_delta_step=None, max_depth=4, max_leaves=None,\n",
              "             min_child_weight=None, missing=nan, monotone_constraints=None,\n",
              "             n_estimators=100, n_jobs=None, num_parallel_tree=None,\n",
              "             predictor=None, random_state=None, ...)"
            ]
          },
          "execution_count": 113,
          "metadata": {},
          "output_type": "execute_result"
        }
      ],
      "source": [
        "reg.fit(tr_data_X, tr_data_Y)"
      ]
    },
    {
      "cell_type": "code",
      "execution_count": null,
      "metadata": {
        "colab": {
          "base_uri": "https://localhost:8080/"
        },
        "id": "MPMllt0jOHA0",
        "outputId": "57ad118b-fd62-4aec-d2e0-865abf1f4fa8"
      },
      "outputs": [
        {
          "name": "stdout",
          "output_type": "stream",
          "text": [
            "XGB: 0.07247471809387207 seconds\n"
          ]
        }
      ],
      "source": [
        "y_pred_xgb =reg.predict(ts_data_X)\n",
        "et = time.time()\n",
        "elapsed_time = et - st\n",
        "print('XGB:', elapsed_time, 'seconds')"
      ]
    },
    {
      "cell_type": "code",
      "execution_count": null,
      "metadata": {
        "id": "xX0hSmQ1OKEB"
      },
      "outputs": [],
      "source": [
        "from sklearn.metrics import r2_score,mean_squared_error,mean_absolute_percentage_error,fowlkes_mallows_score,mean_squared_log_error\n",
        "R2_xgb =r2_score(ts_data_Y, y_pred_xgb)\n",
        "mse_xgb= mean_squared_error(ts_data_Y, y_pred_xgb)\n",
        "mape_xgb=mean_absolute_percentage_error(ts_data_Y, y_pred_xgb)\n",
        "mallow_xgb=fowlkes_mallows_score(ts_data_Y, y_pred_xgb)\n",
        "mslr_xgb=mean_squared_log_error(ts_data_Y, y_pred_xgb)\n",
        "import scipy\n",
        "r_xgb=scipy.stats.pearsonr(ts_data_Y,y_pred_xgb)"
      ]
    },
    {
      "cell_type": "code",
      "execution_count": null,
      "metadata": {
        "colab": {
          "base_uri": "https://localhost:8080/"
        },
        "id": "SzAW1XOtOMEL",
        "outputId": "3ddfd7fe-c66b-4184-d54a-4f6308f656ec"
      },
      "outputs": [
        {
          "name": "stdout",
          "output_type": "stream",
          "text": [
            "R2_xgb= 0.991871490620313\n",
            "mse_xgb= 0.6230999966182038\n",
            "R score_xgb= 0.9962695273293322\n",
            "mape_xgb= 0.042166819882202916\n",
            "mallow_xgb= 0.7071067811865476\n",
            "mslr_xgb 0.0036303732495436554\n"
          ]
        }
      ],
      "source": [
        "print('R2_xgb=',R2_xgb)\n",
        "print('mse_xgb=',mse_xgb)\n",
        "print('R score_xgb=',r_xgb[0])\n",
        "print('mape_xgb=',mape_xgb)\n",
        "print('mallow_xgb=',mallow_xgb)\n",
        "print('mslr_xgb',mslr_xgb)"
      ]
    },
    {
      "cell_type": "code",
      "execution_count": null,
      "metadata": {
        "colab": {
          "base_uri": "https://localhost:8080/",
          "height": 489
        },
        "id": "P1Y2DHkROesC",
        "outputId": "064dd155-5640-41fe-fcd0-7517e0cd0a8d"
      },
      "outputs": [
        {
          "data": {
            "image/png": "[encoded data removed]",
            "text/plain": [
              "<Figure size 640x480 with 1 Axes>"
            ]
          },
          "metadata": {},
          "output_type": "display_data"
        }
      ],
      "source": [
        "import warnings\n",
        "# Ignore the 'matplotlib.font_manager' warning\n",
        "warnings.filterwarnings('ignore', category=UserWarning, module='matplotlib.font_manager')\n",
        "# Your code for the scatter plot and other configurations\n",
        "sns.scatterplot(x=ts_data_Y, y=y_pred_xgb, c='#008080', edgecolor='black', s=200)\n",
        "font1 = {'family': 'STIXGeneral', 'color': '#6f045a', 'fontweight': 'bold', 'size': 18}\n",
        "plt.yticks(np.arange(0, 40, 5), color='navy', fontweight='bold', size=15)\n",
        "plt.xticks(np.arange(0, 40, 5), color='navy', fontweight='bold', size=15)\n",
        "plt.xlabel('Actual pce', fontdict=font1)\n",
        "plt.ylabel('Predicted pce', fontdict=font1)\n",
        "plt.title('XGB plot', c='#6f045a', fontdict=font1)\n",
        "\n",
        "# Show the plot\n",
        "plt.show()\n"
      ]
    },
    {
      "cell_type": "code",
      "execution_count": null,
      "metadata": {
        "colab": {
          "base_uri": "https://localhost:8080/",
          "height": 618
        },
        "id": "pOODrtJH_7Io",
        "outputId": "68879f1c-c9c6-41fd-9a2f-b49619245b84"
      },
      "outputs": [
        {
          "name": "stderr",
          "output_type": "stream",
          "text": [
            "WARNING:matplotlib.font_manager:findfont: Font family 'calibari' not found.\n",
            "WARNING:matplotlib.font_manager:findfont: Font family 'calibari' not found.\n",
            "WARNING:matplotlib.font_manager:findfont: Font family 'calibari' not found.\n",
            "WARNING:matplotlib.font_manager:findfont: Font family 'calibari' not found.\n",
            "WARNING:matplotlib.font_manager:findfont: Font family 'calibari' not found.\n",
            "WARNING:matplotlib.font_manager:findfont: Font family 'calibari' not found.\n",
            "WARNING:matplotlib.font_manager:findfont: Font family 'calibari' not found.\n",
            "WARNING:matplotlib.font_manager:findfont: Font family 'calibari' not found.\n"
          ]
        },
        {
          "data": {
            "image/png": "[encoded data removed]",
            "text/plain": [
              "<Figure size 800x500 with 1 Axes>"
            ]
          },
          "metadata": {},
          "output_type": "display_data"
        }
      ],
      "source": [
        "import warnings\n",
        "import numpy as np\n",
        "import seaborn as sns\n",
        "import matplotlib.pyplot as plt\n",
        "import matplotlib as mpl\n",
        "# Ignore warnings\n",
        "warnings.filterwarnings('ignore')\n",
        "\n",
        "# Assuming you have defined 'ts_data_Y' and 'y_pred_dtr' before this code snippet\n",
        "\n",
        "# Perform linear regression and obtain the coefficients\n",
        "reg = np.polyfit(ts_data_Y, y_pred_xgb, deg=1)\n",
        "slope = reg[0]\n",
        "intercept = reg[1]\n",
        "\n",
        "# Generate the trend line for linear regression\n",
        "trend = slope * ts_data_Y + intercept\n",
        "\n",
        "# Set the style to a light blue or cyan background color\n",
        "plt.figure(figsize=(8, 5))\n",
        "sns.set_style({'axes.facecolor': '#E0FFFF'})  # Set your desired color here\n",
        "mpl.rcParams['axes.linewidth'] = 2.5\n",
        "mpl.rcParams['xtick.major.width'] = 2.5  # Set your desired x-axis tick thickness here\n",
        "mpl.rcParams['ytick.major.width'] = 2.5\n",
        "# Plot the scatter plot with the specified background color\n",
        "sns.scatterplot(x=ts_data_Y, y=y_pred_xgb, c='yellow', marker='*', edgecolor='black', s=300)\n",
        "\n",
        "# Plot the trend line\n",
        "plt.plot(ts_data_Y, trend, color='red', linewidth=2)\n",
        "\n",
        "# Customize the plot (xticks, yticks, labels, title, etc.)\n",
        "font1 = {'family': 'calibari', 'color': 'black', 'fontweight': 'bold', 'size': 18}\n",
        "plt.yticks(color='navy', fontweight='bold', size=12)\n",
        "plt.xlim(0, max(ts_data_Y) + 1)\n",
        "plt.ylim(0, max(y_pred_dtr) + 1)\n",
        "plt.xticks(color='navy', fontweight='bold', size=12)\n",
        "plt.xlabel('True PCE(%)', fontdict=font1)\n",
        "plt.ylabel('Predicted PCE(%)', fontdict=font1)\n",
        "# plt.title('Xgboost regressor Plot', c='#6f045a', fontdict=font1)\n",
        "\n",
        "# Show the plot\n",
        "plt.show()\n"
      ]
    },
    {
      "cell_type": "code",
      "execution_count": null,
      "metadata": {
        "colab": {
          "base_uri": "https://localhost:8080/"
        },
        "id": "rJUpsgL6BG-Q",
        "outputId": "cee8c390-3788-4ada-c9d5-f5efe8a32818"
      },
      "outputs": [
        {
          "data": {
            "text/plain": [
              "array([0.96789565, 0.75256899])"
            ]
          },
          "execution_count": 119,
          "metadata": {},
          "output_type": "execute_result"
        }
      ],
      "source": [
        "reg"
      ]
    },
    {
      "cell_type": "code",
      "execution_count": null,
      "metadata": {
        "colab": {
          "base_uri": "https://localhost:8080/",
          "height": 74
        },
        "id": "hu19JhatPZXx",
        "outputId": "0b59ee95-afa2-4e7d-f016-013705db7137"
      },
      "outputs": [
        {
          "data": {
            "text/html": [
              "<style>#sk-container-id-11 {color: black;background-color: white;}#sk-container-id-11 pre{padding: 0;}#sk-container-id-11 div.sk-toggleable {background-color: white;}#sk-container-id-11 label.sk-toggleable__label {cursor: pointer;display: block;width: 100%;margin-bottom: 0;padding: 0.3em;box-sizing: border-box;text-align: center;}#sk-container-id-11 label.sk-toggleable__label-arrow:before {content: \"▸\";float: left;margin-right: 0.25em;color: #696969;}#sk-container-id-11 label.sk-toggleable__label-arrow:hover:before {color: black;}#sk-container-id-11 div.sk-estimator:hover label.sk-toggleable__label-arrow:before {color: black;}#sk-container-id-11 div.sk-toggleable__content {max-height: 0;max-width: 0;overflow: hidden;text-align: left;background-color: #f0f8ff;}#sk-container-id-11 div.sk-toggleable__content pre {margin: 0.2em;color: black;border-radius: 0.25em;background-color: #f0f8ff;}#sk-container-id-11 input.sk-toggleable__control:checked~div.sk-toggleable__content {max-height: 200px;max-width: 100%;overflow: auto;}#sk-container-id-11 input.sk-toggleable__control:checked~label.sk-toggleable__label-arrow:before {content: \"▾\";}#sk-container-id-11 div.sk-estimator input.sk-toggleable__control:checked~label.sk-toggleable__label {background-color: #d4ebff;}#sk-container-id-11 div.sk-label input.sk-toggleable__control:checked~label.sk-toggleable__label {background-color: #d4ebff;}#sk-container-id-11 input.sk-hidden--visually {border: 0;clip: rect(1px 1px 1px 1px);clip: rect(1px, 1px, 1px, 1px);height: 1px;margin: -1px;overflow: hidden;padding: 0;position: absolute;width: 1px;}#sk-container-id-11 div.sk-estimator {font-family: monospace;background-color: #f0f8ff;border: 1px dotted black;border-radius: 0.25em;box-sizing: border-box;margin-bottom: 0.5em;}#sk-container-id-11 div.sk-estimator:hover {background-color: #d4ebff;}#sk-container-id-11 div.sk-parallel-item::after {content: \"\";width: 100%;border-bottom: 1px solid gray;flex-grow: 1;}#sk-container-id-11 div.sk-label:hover label.sk-toggleable__label {background-color: #d4ebff;}#sk-container-id-11 div.sk-serial::before {content: \"\";position: absolute;border-left: 1px solid gray;box-sizing: border-box;top: 0;bottom: 0;left: 50%;z-index: 0;}#sk-container-id-11 div.sk-serial {display: flex;flex-direction: column;align-items: center;background-color: white;padding-right: 0.2em;padding-left: 0.2em;position: relative;}#sk-container-id-11 div.sk-item {position: relative;z-index: 1;}#sk-container-id-11 div.sk-parallel {display: flex;align-items: stretch;justify-content: center;background-color: white;position: relative;}#sk-container-id-11 div.sk-item::before, #sk-container-id-11 div.sk-parallel-item::before {content: \"\";position: absolute;border-left: 1px solid gray;box-sizing: border-box;top: 0;bottom: 0;left: 50%;z-index: -1;}#sk-container-id-11 div.sk-parallel-item {display: flex;flex-direction: column;z-index: 1;position: relative;background-color: white;}#sk-container-id-11 div.sk-parallel-item:first-child::after {align-self: flex-end;width: 50%;}#sk-container-id-11 div.sk-parallel-item:last-child::after {align-self: flex-start;width: 50%;}#sk-container-id-11 div.sk-parallel-item:only-child::after {width: 0;}#sk-container-id-11 div.sk-dashed-wrapped {border: 1px dashed gray;margin: 0 0.4em 0.5em 0.4em;box-sizing: border-box;padding-bottom: 0.4em;background-color: white;}#sk-container-id-11 div.sk-label label {font-family: monospace;font-weight: bold;display: inline-block;line-height: 1.2em;}#sk-container-id-11 div.sk-label-container {text-align: center;}#sk-container-id-11 div.sk-container {/* jupyter's `normalize.less` sets `[hidden] { display: none; }` but bootstrap.min.css set `[hidden] { display: none !important; }` so we also need the `!important` here to be able to override the default hidden behavior on the sphinx rendered scikit-learn.org. See: https://github.com/scikit-learn/scikit-learn/issues/21755 */display: inline-block !important;position: relative;}#sk-container-id-11 div.sk-text-repr-fallback {display: none;}</style><div id=\"sk-container-id-11\" class=\"sk-top-container\"><div class=\"sk-text-repr-fallback\"><pre>KNeighborsRegressor(n_neighbors=3)</pre><b>In a Jupyter environment, please rerun this cell to show the HTML representation or trust the notebook. <br />On GitHub, the HTML representation is unable to render, please try loading this page with nbviewer.org.</b></div><div class=\"sk-container\" hidden><div class=\"sk-item\"><div class=\"sk-estimator sk-toggleable\"><input class=\"sk-toggleable__control sk-hidden--visually\" id=\"sk-estimator-id-11\" type=\"checkbox\" checked><label for=\"sk-estimator-id-11\" class=\"sk-toggleable__label sk-toggleable__label-arrow\">KNeighborsRegressor</label><div class=\"sk-toggleable__content\"><pre>KNeighborsRegressor(n_neighbors=3)</pre></div></div></div></div></div>"
            ],
            "text/plain": [
              "KNeighborsRegressor(n_neighbors=3)"
            ]
          },
          "execution_count": 120,
          "metadata": {},
          "output_type": "execute_result"
        }
      ],
      "source": [
        "import time\n",
        "st = time.time()\n",
        "from sklearn.neighbors import KNeighborsRegressor\n",
        "knn = KNeighborsRegressor(n_neighbors=3)\n",
        "knn.fit(tr_data_X,  tr_data_Y)"
      ]
    },
    {
      "cell_type": "code",
      "execution_count": null,
      "metadata": {
        "colab": {
          "base_uri": "https://localhost:8080/"
        },
        "id": "kZMeZaYGPiN9",
        "outputId": "0d28600c-ee00-4f27-af5e-229a008a3a0a"
      },
      "outputs": [
        {
          "name": "stdout",
          "output_type": "stream",
          "text": [
            "KNN: 0.02170705795288086 seconds\n"
          ]
        }
      ],
      "source": [
        "y_pred_knn = knn.predict(ts_data_X)\n",
        "et = time.time()\n",
        "elapsed_time = et - st\n",
        "print('KNN:', elapsed_time, 'seconds')"
      ]
    },
    {
      "cell_type": "code",
      "execution_count": null,
      "metadata": {
        "id": "8ZXa5ywaPi1N"
      },
      "outputs": [],
      "source": [
        "from sklearn.metrics import r2_score,mean_squared_error,mean_absolute_percentage_error,fowlkes_mallows_score,mean_squared_log_error\n",
        "R2_knn =r2_score(ts_data_Y, y_pred_knn)\n",
        "mse_knn= mean_squared_error(ts_data_Y, y_pred_knn)\n",
        "mape_knn=mean_absolute_percentage_error(ts_data_Y, y_pred_knn)\n",
        "mallow_knn=fowlkes_mallows_score(ts_data_Y, y_pred_knn)\n",
        "mslr_knn=mean_squared_log_error(ts_data_Y, y_pred_knn)\n",
        "import scipy\n",
        "r_knn=scipy.stats.pearsonr(ts_data_Y,y_pred_knn)"
      ]
    },
    {
      "cell_type": "code",
      "execution_count": null,
      "metadata": {
        "colab": {
          "base_uri": "https://localhost:8080/"
        },
        "id": "hRN6hi5ePl_V",
        "outputId": "5d41cbaa-6163-482d-a69f-38c0a1b8b046"
      },
      "outputs": [
        {
          "name": "stdout",
          "output_type": "stream",
          "text": [
            "R2_knn= 0.6868722681186614\n",
            "mse_knn= 24.003157228790855\n",
            "R score_knn= 0.8351825120028713\n",
            "mape_knn= 0.3086179116508423\n",
            "mallow_knn= 0.3535533905932738\n",
            "mslr_knn= 0.11958699581787649\n"
          ]
        }
      ],
      "source": [
        "print('R2_knn=',R2_knn)\n",
        "print('mse_knn=',mse_knn)\n",
        "print('R score_knn=',r_knn[0])\n",
        "print('mape_knn=',mape_knn)\n",
        "print('mallow_knn=',mallow_knn)\n",
        "print('mslr_knn=',mslr_knn)"
      ]
    },
    {
      "cell_type": "code",
      "execution_count": null,
      "metadata": {
        "colab": {
          "base_uri": "https://localhost:8080/",
          "height": 489
        },
        "id": "tj6Vr8xbP_e4",
        "outputId": "bc5136b3-b8c1-487f-8e39-5c49b4478a01"
      },
      "outputs": [
        {
          "data": {
            "image/png": "[encoded data removed]",
            "text/plain": [
              "<Figure size 640x480 with 1 Axes>"
            ]
          },
          "metadata": {},
          "output_type": "display_data"
        }
      ],
      "source": [
        "import warnings\n",
        "# Ignore the 'matplotlib.font_manager' warning\n",
        "warnings.filterwarnings('ignore', category=UserWarning, module='matplotlib.font_manager')\n",
        "# Your code for the scatter plot and other configurations\n",
        "sns.scatterplot(x=ts_data_Y, y=y_pred_knn, c='#008080', edgecolor='black', s=200)\n",
        "font1 = {'family': 'STIXGeneral', 'color': '#6f045a', 'fontweight': 'bold', 'size': 18}\n",
        "plt.yticks(np.arange(0, 40, 5), color='navy', fontweight='bold', size=15)\n",
        "plt.xticks(np.arange(0, 40, 5), color='navy', fontweight='bold', size=15)\n",
        "plt.xlabel('Actual pce', fontdict=font1)\n",
        "plt.ylabel('Predicted pce', fontdict=font1)\n",
        "plt.title('KNN plot', c='#6f045a', fontdict=font1)\n",
        "\n",
        "# Show the plot\n",
        "plt.show()\n"
      ]
    },
    {
      "cell_type": "code",
      "execution_count": null,
      "metadata": {
        "colab": {
          "base_uri": "https://localhost:8080/"
        },
        "id": "fKiudK_3Ppmt",
        "outputId": "142eefa3-d486-436e-c16b-5b23671bbc6d"
      },
      "outputs": [
        {
          "name": "stdout",
          "output_type": "stream",
          "text": [
            "SVR: 0.014557123184204102 seconds\n"
          ]
        }
      ],
      "source": [
        "import time\n",
        "st = time.time()\n",
        "from sklearn.svm import SVR\n",
        "from sklearn.svm import SVR\n",
        "regressor = SVR(kernel = 'rbf')\n",
        "regressor.fit(tr_data_X, tr_data_Y)\n",
        "y_pred_svr = regressor.predict(ts_data_X)\n",
        "et = time.time()\n",
        "elapsed_time = et - st\n",
        "print('SVR:', elapsed_time, 'seconds')"
      ]
    },
    {
      "cell_type": "code",
      "execution_count": null,
      "metadata": {
        "colab": {
          "base_uri": "https://localhost:8080/"
        },
        "id": "95ybbKcQPv-t",
        "outputId": "8850676e-cc4c-439f-b427-46432e0571ac"
      },
      "outputs": [
        {
          "data": {
            "text/plain": [
              "(34,)"
            ]
          },
          "execution_count": 126,
          "metadata": {},
          "output_type": "execute_result"
        }
      ],
      "source": [
        "y_pred_svr.shape"
      ]
    },
    {
      "cell_type": "code",
      "execution_count": null,
      "metadata": {
        "id": "QZNa7MVUPylU"
      },
      "outputs": [],
      "source": [
        "from sklearn.metrics import r2_score,mean_squared_error\n",
        "R2_svr =r2_score(ts_data_Y, y_pred_svr)\n",
        "mse_svr= mean_squared_error(ts_data_Y, y_pred_svr)\n",
        "import scipy\n",
        "r_svr=scipy.stats.pearsonr(ts_data_Y,y_pred_svr)"
      ]
    },
    {
      "cell_type": "code",
      "execution_count": null,
      "metadata": {
        "colab": {
          "base_uri": "https://localhost:8080/"
        },
        "id": "73H043R8P2Ko",
        "outputId": "d805ad73-633e-4256-bdd0-8d0d980b359a"
      },
      "outputs": [
        {
          "name": "stdout",
          "output_type": "stream",
          "text": [
            "R2_svr= -0.06686973460097434\n",
            "mse_svr= 81.78209521209043\n",
            "R score_svr= 0.3204386572790435\n"
          ]
        }
      ],
      "source": [
        "print('R2_svr=',R2_svr)\n",
        "print('mse_svr=',mse_svr)\n",
        "print('R score_svr=',r_svr[0])"
      ]
    },
    {
      "cell_type": "code",
      "execution_count": null,
      "metadata": {
        "colab": {
          "base_uri": "https://localhost:8080/"
        },
        "id": "FgsXSy0OP4es",
        "outputId": "a3105ad0-2bdb-4d19-9b58-a0659210aad9"
      },
      "outputs": [
        {
          "name": "stdout",
          "output_type": "stream",
          "text": [
            "RF: 0.1904923915863037 seconds\n"
          ]
        }
      ],
      "source": [
        "import time\n",
        "st = time.time()\n",
        "from sklearn.ensemble import RandomForestRegressor\n",
        "regressor = RandomForestRegressor(n_estimators = 100, random_state = None)\n",
        "regressor.fit(tr_data_X, tr_data_Y)\n",
        "y_pred_rf = regressor.predict(ts_data_X)\n",
        "et = time.time()\n",
        "elapsed_time = et - st\n",
        "print('RF:', elapsed_time, 'seconds')"
      ]
    },
    {
      "cell_type": "code",
      "execution_count": null,
      "metadata": {
        "id": "X74QJPzSQMcY"
      },
      "outputs": [],
      "source": [
        "from sklearn.metrics import r2_score,mean_squared_error,mean_absolute_percentage_error,fowlkes_mallows_score,mean_squared_log_error\n",
        "R2_rf =r2_score(ts_data_Y, y_pred_rf)\n",
        "mse_rf= mean_squared_error(ts_data_Y, y_pred_rf)\n",
        "mape_rf=mean_absolute_percentage_error(ts_data_Y, y_pred_rf)\n",
        "mallow_rf=fowlkes_mallows_score(ts_data_Y, y_pred_rf)\n",
        "mslr_rf=mean_squared_log_error(ts_data_Y, y_pred_rf)\n",
        "import scipy\n",
        "r_rf=scipy.stats.pearsonr(ts_data_Y,y_pred_rf)"
      ]
    },
    {
      "cell_type": "code",
      "execution_count": null,
      "metadata": {
        "colab": {
          "base_uri": "https://localhost:8080/"
        },
        "id": "_IWvorPdQPk5",
        "outputId": "d2288e00-49c0-41f6-9673-8634cc8ad898"
      },
      "outputs": [
        {
          "name": "stdout",
          "output_type": "stream",
          "text": [
            "R2_rf= 0.9408906863179526\n",
            "mse_rf= 4.531090687725376\n",
            "R score_rf= 0.9791415419799454\n",
            "mape_rf= 0.14032306606625045\n",
            "mallow_rf= 0.5\n",
            "mslr_rf= 0.03979763409445289\n"
          ]
        }
      ],
      "source": [
        "print('R2_rf=',R2_rf)\n",
        "print('mse_rf=',mse_rf)\n",
        "print('R score_rf=',r_rf[0])\n",
        "print('mape_rf=',mape_rf)\n",
        "print('mallow_rf=',mallow_rf)\n",
        "print('mslr_rf=',mslr_rf)"
      ]
    },
    {
      "cell_type": "code",
      "execution_count": null,
      "metadata": {
        "colab": {
          "base_uri": "https://localhost:8080/",
          "height": 489
        },
        "id": "BeCz49FsQSM9",
        "outputId": "c3d0823c-37fe-4bd0-af3a-2d90a722684a"
      },
      "outputs": [
        {
          "data": {
            "image/png": "[encoded data removed]",
            "text/plain": [
              "<Figure size 640x480 with 1 Axes>"
            ]
          },
          "metadata": {},
          "output_type": "display_data"
        }
      ],
      "source": [
        "import warnings\n",
        "# Ignore the 'matplotlib.font_manager' warning\n",
        "warnings.filterwarnings('ignore', category=UserWarning, module='matplotlib.font_manager')\n",
        "# Your code for the scatter plot and other configurations\n",
        "sns.scatterplot(x=ts_data_Y, y=y_pred_rf, c='#008080', edgecolor='black', s=200)\n",
        "font1 = {'family': 'STIXGeneral', 'color': '#6f045a', 'fontweight': 'bold', 'size': 18}\n",
        "plt.yticks(np.arange(0, 40, 5), color='navy', fontweight='bold', size=15)\n",
        "plt.xticks(np.arange(0, 40, 5), color='navy', fontweight='bold', size=15)\n",
        "plt.xlabel('Actual pce', fontdict=font1)\n",
        "plt.ylabel('Predicted pce', fontdict=font1)\n",
        "plt.title('Randomforest plot', c='#6f045a', fontdict=font1)\n",
        "\n",
        "# Show the plot\n",
        "plt.show()\n"
      ]
    },
    {
      "cell_type": "code",
      "execution_count": null,
      "metadata": {
        "id": "Rnpp746lQaTp"
      },
      "outputs": [],
      "source": [
        "import time\n",
        "st = time.time()\n",
        "from sklearn.ensemble import AdaBoostRegressor\n",
        "from sklearn.datasets import make_regression"
      ]
    },
    {
      "cell_type": "code",
      "execution_count": null,
      "metadata": {
        "colab": {
          "base_uri": "https://localhost:8080/",
          "height": 74
        },
        "id": "oMZnibsqQrhU",
        "outputId": "70357600-b81e-4ef6-c26b-454a232afc26"
      },
      "outputs": [
        {
          "data": {
            "text/html": [
              "<style>#sk-container-id-15 {color: black;background-color: white;}#sk-container-id-15 pre{padding: 0;}#sk-container-id-15 div.sk-toggleable {background-color: white;}#sk-container-id-15 label.sk-toggleable__label {cursor: pointer;display: block;width: 100%;margin-bottom: 0;padding: 0.3em;box-sizing: border-box;text-align: center;}#sk-container-id-15 label.sk-toggleable__label-arrow:before {content: \"▸\";float: left;margin-right: 0.25em;color: #696969;}#sk-container-id-15 label.sk-toggleable__label-arrow:hover:before {color: black;}#sk-container-id-15 div.sk-estimator:hover label.sk-toggleable__label-arrow:before {color: black;}#sk-container-id-15 div.sk-toggleable__content {max-height: 0;max-width: 0;overflow: hidden;text-align: left;background-color: #f0f8ff;}#sk-container-id-15 div.sk-toggleable__content pre {margin: 0.2em;color: black;border-radius: 0.25em;background-color: #f0f8ff;}#sk-container-id-15 input.sk-toggleable__control:checked~div.sk-toggleable__content {max-height: 200px;max-width: 100%;overflow: auto;}#sk-container-id-15 input.sk-toggleable__control:checked~label.sk-toggleable__label-arrow:before {content: \"▾\";}#sk-container-id-15 div.sk-estimator input.sk-toggleable__control:checked~label.sk-toggleable__label {background-color: #d4ebff;}#sk-container-id-15 div.sk-label input.sk-toggleable__control:checked~label.sk-toggleable__label {background-color: #d4ebff;}#sk-container-id-15 input.sk-hidden--visually {border: 0;clip: rect(1px 1px 1px 1px);clip: rect(1px, 1px, 1px, 1px);height: 1px;margin: -1px;overflow: hidden;padding: 0;position: absolute;width: 1px;}#sk-container-id-15 div.sk-estimator {font-family: monospace;background-color: #f0f8ff;border: 1px dotted black;border-radius: 0.25em;box-sizing: border-box;margin-bottom: 0.5em;}#sk-container-id-15 div.sk-estimator:hover {background-color: #d4ebff;}#sk-container-id-15 div.sk-parallel-item::after {content: \"\";width: 100%;border-bottom: 1px solid gray;flex-grow: 1;}#sk-container-id-15 div.sk-label:hover label.sk-toggleable__label {background-color: #d4ebff;}#sk-container-id-15 div.sk-serial::before {content: \"\";position: absolute;border-left: 1px solid gray;box-sizing: border-box;top: 0;bottom: 0;left: 50%;z-index: 0;}#sk-container-id-15 div.sk-serial {display: flex;flex-direction: column;align-items: center;background-color: white;padding-right: 0.2em;padding-left: 0.2em;position: relative;}#sk-container-id-15 div.sk-item {position: relative;z-index: 1;}#sk-container-id-15 div.sk-parallel {display: flex;align-items: stretch;justify-content: center;background-color: white;position: relative;}#sk-container-id-15 div.sk-item::before, #sk-container-id-15 div.sk-parallel-item::before {content: \"\";position: absolute;border-left: 1px solid gray;box-sizing: border-box;top: 0;bottom: 0;left: 50%;z-index: -1;}#sk-container-id-15 div.sk-parallel-item {display: flex;flex-direction: column;z-index: 1;position: relative;background-color: white;}#sk-container-id-15 div.sk-parallel-item:first-child::after {align-self: flex-end;width: 50%;}#sk-container-id-15 div.sk-parallel-item:last-child::after {align-self: flex-start;width: 50%;}#sk-container-id-15 div.sk-parallel-item:only-child::after {width: 0;}#sk-container-id-15 div.sk-dashed-wrapped {border: 1px dashed gray;margin: 0 0.4em 0.5em 0.4em;box-sizing: border-box;padding-bottom: 0.4em;background-color: white;}#sk-container-id-15 div.sk-label label {font-family: monospace;font-weight: bold;display: inline-block;line-height: 1.2em;}#sk-container-id-15 div.sk-label-container {text-align: center;}#sk-container-id-15 div.sk-container {/* jupyter's `normalize.less` sets `[hidden] { display: none; }` but bootstrap.min.css set `[hidden] { display: none !important; }` so we also need the `!important` here to be able to override the default hidden behavior on the sphinx rendered scikit-learn.org. See: https://github.com/scikit-learn/scikit-learn/issues/21755 */display: inline-block !important;position: relative;}#sk-container-id-15 div.sk-text-repr-fallback {display: none;}</style><div id=\"sk-container-id-15\" class=\"sk-top-container\"><div class=\"sk-text-repr-fallback\"><pre>AdaBoostRegressor(n_estimators=300, random_state=0)</pre><b>In a Jupyter environment, please rerun this cell to show the HTML representation or trust the notebook. <br />On GitHub, the HTML representation is unable to render, please try loading this page with nbviewer.org.</b></div><div class=\"sk-container\" hidden><div class=\"sk-item\"><div class=\"sk-estimator sk-toggleable\"><input class=\"sk-toggleable__control sk-hidden--visually\" id=\"sk-estimator-id-15\" type=\"checkbox\" checked><label for=\"sk-estimator-id-15\" class=\"sk-toggleable__label sk-toggleable__label-arrow\">AdaBoostRegressor</label><div class=\"sk-toggleable__content\"><pre>AdaBoostRegressor(n_estimators=300, random_state=0)</pre></div></div></div></div></div>"
            ],
            "text/plain": [
              "AdaBoostRegressor(n_estimators=300, random_state=0)"
            ]
          },
          "execution_count": 179,
          "metadata": {},
          "output_type": "execute_result"
        }
      ],
      "source": [
        "ada_reg = AdaBoostRegressor(random_state=0, n_estimators=300)\n",
        "ada_reg.fit(tr_data_X,tr_data_Y)"
      ]
    },
    {
      "cell_type": "code",
      "execution_count": null,
      "metadata": {
        "colab": {
          "base_uri": "https://localhost:8080/"
        },
        "id": "yB2Hd00VQuiZ",
        "outputId": "64cdc472-f7f4-4f4c-d8bd-3ddc5550ee22"
      },
      "outputs": [
        {
          "name": "stdout",
          "output_type": "stream",
          "text": [
            "ADB : 3.4564568996429443 seconds\n"
          ]
        }
      ],
      "source": [
        "AdaBoostRegressor(n_estimators=100, random_state=0)\n",
        "y_pred_AdB = np.array(ada_reg.predict(ts_data_X))\n",
        "et = time.time()\n",
        "elapsed_time = et - st\n",
        "print('ADB :', elapsed_time, 'seconds')"
      ]
    },
    {
      "cell_type": "code",
      "execution_count": null,
      "metadata": {
        "id": "CgrTnuURQzfB"
      },
      "outputs": [],
      "source": [
        "from sklearn.metrics import r2_score,mean_squared_error,mean_absolute_percentage_error,fowlkes_mallows_score,mean_squared_log_error\n",
        "R2_AdB =r2_score(ts_data_Y, y_pred_AdB)\n",
        "mse_AdB= mean_squared_error(ts_data_Y, y_pred_AdB)\n",
        "mape_AdB=mean_absolute_percentage_error(ts_data_Y, y_pred_AdB)\n",
        "mallow_AdB=fowlkes_mallows_score(ts_data_Y, y_pred_AdB)\n",
        "mslr_AdB=mean_squared_log_error(ts_data_Y, y_pred_AdB)\n",
        "import scipy\n",
        "r_rf=scipy.stats.pearsonr(ts_data_Y,y_pred_rf)"
      ]
    },
    {
      "cell_type": "code",
      "execution_count": null,
      "metadata": {
        "colab": {
          "base_uri": "https://localhost:8080/"
        },
        "id": "RWkar9CdQ3RO",
        "outputId": "4edcabc3-4293-42a8-9d5b-1fceb9d8c683"
      },
      "outputs": [
        {
          "name": "stdout",
          "output_type": "stream",
          "text": [
            "R2_AdB= 0.6212603132576748\n",
            "mse_AdB= 29.03271516399604\n",
            "R score_AdB= 0.8120328894868366\n",
            "mape_AdB= 0.36722138835655227\n",
            "mallow_AdB= 0.2581988897471611\n",
            "mslr_AdB= 0.13015242637308366\n"
          ]
        }
      ],
      "source": [
        "print('R2_AdB=',R2_AdB)\n",
        "print('mse_AdB=',mse_AdB)\n",
        "print('R score_AdB=',r_AdB[0])\n",
        "print('mape_AdB=',mape_AdB)\n",
        "print('mallow_AdB=',mallow_AdB)\n",
        "print('mslr_AdB=',mslr_AdB)"
      ]
    },
    {
      "cell_type": "code",
      "execution_count": null,
      "metadata": {
        "colab": {
          "base_uri": "https://localhost:8080/",
          "height": 489
        },
        "id": "s3y1xnexQ6K-",
        "outputId": "e8fae0c3-7245-4357-f7e4-da4c90db482b"
      },
      "outputs": [
        {
          "data": {
            "image/png": "[encoded data removed]",
            "text/plain": [
              "<Figure size 640x480 with 1 Axes>"
            ]
          },
          "metadata": {},
          "output_type": "display_data"
        }
      ],
      "source": [
        "import warnings\n",
        "# Ignore the 'matplotlib.font_manager' warning\n",
        "warnings.filterwarnings('ignore', category=UserWarning, module='matplotlib.font_manager')\n",
        "# Your code for the scatter plot and other configurations\n",
        "sns.scatterplot(x=ts_data_Y, y=y_pred_AdB, c='#008080', edgecolor='black', s=200)\n",
        "font1 = {'family': 'STIXGeneral', 'color': '#6f045a', 'fontweight': 'bold', 'size': 18}\n",
        "plt.yticks(np.arange(0, 45, 5), color='navy', fontweight='bold', size=15)\n",
        "plt.xticks(np.arange(0, 45, 5), color='navy', fontweight='bold', size=15)\n",
        "plt.xlabel('Actual pce', fontdict=font1)\n",
        "plt.ylabel('Predicted pce', fontdict=font1)\n",
        "plt.title('AdaBoost Regressor plot', c='#6f045a', fontdict=font1)\n",
        "\n",
        "# Show the plot\n",
        "plt.show()\n"
      ]
    },
    {
      "cell_type": "code",
      "execution_count": null,
      "metadata": {
        "id": "zMX-fQPwRM47"
      },
      "outputs": [],
      "source": [
        "import time\n",
        "st = time.time()\n",
        "from sklearn.datasets import make_regression\n",
        "from lightgbm import LGBMRegressor\n",
        "model_LGBM = LGBMRegressor()"
      ]
    },
    {
      "cell_type": "code",
      "execution_count": null,
      "metadata": {
        "colab": {
          "base_uri": "https://localhost:8080/",
          "height": 74
        },
        "id": "KwdZcrd4RewK",
        "outputId": "a1b92fbe-b014-4457-bd77-52e0610bbfa1"
      },
      "outputs": [
        {
          "data": {
            "text/html": [
              "<style>#sk-container-id-13 {color: black;background-color: white;}#sk-container-id-13 pre{padding: 0;}#sk-container-id-13 div.sk-toggleable {background-color: white;}#sk-container-id-13 label.sk-toggleable__label {cursor: pointer;display: block;width: 100%;margin-bottom: 0;padding: 0.3em;box-sizing: border-box;text-align: center;}#sk-container-id-13 label.sk-toggleable__label-arrow:before {content: \"▸\";float: left;margin-right: 0.25em;color: #696969;}#sk-container-id-13 label.sk-toggleable__label-arrow:hover:before {color: black;}#sk-container-id-13 div.sk-estimator:hover label.sk-toggleable__label-arrow:before {color: black;}#sk-container-id-13 div.sk-toggleable__content {max-height: 0;max-width: 0;overflow: hidden;text-align: left;background-color: #f0f8ff;}#sk-container-id-13 div.sk-toggleable__content pre {margin: 0.2em;color: black;border-radius: 0.25em;background-color: #f0f8ff;}#sk-container-id-13 input.sk-toggleable__control:checked~div.sk-toggleable__content {max-height: 200px;max-width: 100%;overflow: auto;}#sk-container-id-13 input.sk-toggleable__control:checked~label.sk-toggleable__label-arrow:before {content: \"▾\";}#sk-container-id-13 div.sk-estimator input.sk-toggleable__control:checked~label.sk-toggleable__label {background-color: #d4ebff;}#sk-container-id-13 div.sk-label input.sk-toggleable__control:checked~label.sk-toggleable__label {background-color: #d4ebff;}#sk-container-id-13 input.sk-hidden--visually {border: 0;clip: rect(1px 1px 1px 1px);clip: rect(1px, 1px, 1px, 1px);height: 1px;margin: -1px;overflow: hidden;padding: 0;position: absolute;width: 1px;}#sk-container-id-13 div.sk-estimator {font-family: monospace;background-color: #f0f8ff;border: 1px dotted black;border-radius: 0.25em;box-sizing: border-box;margin-bottom: 0.5em;}#sk-container-id-13 div.sk-estimator:hover {background-color: #d4ebff;}#sk-container-id-13 div.sk-parallel-item::after {content: \"\";width: 100%;border-bottom: 1px solid gray;flex-grow: 1;}#sk-container-id-13 div.sk-label:hover label.sk-toggleable__label {background-color: #d4ebff;}#sk-container-id-13 div.sk-serial::before {content: \"\";position: absolute;border-left: 1px solid gray;box-sizing: border-box;top: 0;bottom: 0;left: 50%;z-index: 0;}#sk-container-id-13 div.sk-serial {display: flex;flex-direction: column;align-items: center;background-color: white;padding-right: 0.2em;padding-left: 0.2em;position: relative;}#sk-container-id-13 div.sk-item {position: relative;z-index: 1;}#sk-container-id-13 div.sk-parallel {display: flex;align-items: stretch;justify-content: center;background-color: white;position: relative;}#sk-container-id-13 div.sk-item::before, #sk-container-id-13 div.sk-parallel-item::before {content: \"\";position: absolute;border-left: 1px solid gray;box-sizing: border-box;top: 0;bottom: 0;left: 50%;z-index: -1;}#sk-container-id-13 div.sk-parallel-item {display: flex;flex-direction: column;z-index: 1;position: relative;background-color: white;}#sk-container-id-13 div.sk-parallel-item:first-child::after {align-self: flex-end;width: 50%;}#sk-container-id-13 div.sk-parallel-item:last-child::after {align-self: flex-start;width: 50%;}#sk-container-id-13 div.sk-parallel-item:only-child::after {width: 0;}#sk-container-id-13 div.sk-dashed-wrapped {border: 1px dashed gray;margin: 0 0.4em 0.5em 0.4em;box-sizing: border-box;padding-bottom: 0.4em;background-color: white;}#sk-container-id-13 div.sk-label label {font-family: monospace;font-weight: bold;display: inline-block;line-height: 1.2em;}#sk-container-id-13 div.sk-label-container {text-align: center;}#sk-container-id-13 div.sk-container {/* jupyter's `normalize.less` sets `[hidden] { display: none; }` but bootstrap.min.css set `[hidden] { display: none !important; }` so we also need the `!important` here to be able to override the default hidden behavior on the sphinx rendered scikit-learn.org. See: https://github.com/scikit-learn/scikit-learn/issues/21755 */display: inline-block !important;position: relative;}#sk-container-id-13 div.sk-text-repr-fallback {display: none;}</style><div id=\"sk-container-id-13\" class=\"sk-top-container\"><div class=\"sk-text-repr-fallback\"><pre>LGBMRegressor()</pre><b>In a Jupyter environment, please rerun this cell to show the HTML representation or trust the notebook. <br />On GitHub, the HTML representation is unable to render, please try loading this page with nbviewer.org.</b></div><div class=\"sk-container\" hidden><div class=\"sk-item\"><div class=\"sk-estimator sk-toggleable\"><input class=\"sk-toggleable__control sk-hidden--visually\" id=\"sk-estimator-id-13\" type=\"checkbox\" checked><label for=\"sk-estimator-id-13\" class=\"sk-toggleable__label sk-toggleable__label-arrow\">LGBMRegressor</label><div class=\"sk-toggleable__content\"><pre>LGBMRegressor()</pre></div></div></div></div></div>"
            ],
            "text/plain": [
              "LGBMRegressor()"
            ]
          },
          "execution_count": 140,
          "metadata": {},
          "output_type": "execute_result"
        }
      ],
      "source": [
        "model_LGBM.fit(tr_data_X,tr_data_Y)"
      ]
    },
    {
      "cell_type": "code",
      "execution_count": null,
      "metadata": {
        "colab": {
          "base_uri": "https://localhost:8080/"
        },
        "id": "1ruGD8RMRhU2",
        "outputId": "1fda5f0e-4781-473d-ca18-0b581bc4ae64"
      },
      "outputs": [
        {
          "name": "stdout",
          "output_type": "stream",
          "text": [
            "LGBM: 0.051859378814697266 seconds\n"
          ]
        }
      ],
      "source": [
        "y_pred_LightGBM = np.array(model_LGBM.predict(ts_data_X))\n",
        "et = time.time()\n",
        "elapsed_time = et - st\n",
        "print('LGBM:', elapsed_time, 'seconds')"
      ]
    },
    {
      "cell_type": "code",
      "execution_count": null,
      "metadata": {
        "id": "ww1PJO1cRj8w"
      },
      "outputs": [],
      "source": [
        "from sklearn.metrics import r2_score,mean_squared_error,mean_absolute_percentage_error,fowlkes_mallows_score,mean_squared_log_error\n",
        "R2_LightGBM =r2_score(ts_data_Y, y_pred_LightGBM)\n",
        "mse_LightGBM= mean_squared_error(ts_data_Y, y_pred_LightGBM)\n",
        "mape_LightGBM=mean_absolute_percentage_error(ts_data_Y, y_pred_LightGBM)\n",
        "mallow_LightGBM=fowlkes_mallows_score(ts_data_Y, y_pred_LightGBM)\n",
        "mslr_LightGBM=mean_squared_log_error(ts_data_Y, y_pred_LightGBM)\n",
        "import scipy\n",
        "r_LightGBM=scipy.stats.pearsonr(ts_data_Y,y_pred_LightGBM)"
      ]
    },
    {
      "cell_type": "code",
      "execution_count": null,
      "metadata": {
        "colab": {
          "base_uri": "https://localhost:8080/"
        },
        "id": "M6fY70XgRnHU",
        "outputId": "7fbd8788-66db-47db-bcac-c6449e5d1f46"
      },
      "outputs": [
        {
          "name": "stdout",
          "output_type": "stream",
          "text": [
            "R2_LightGBM= 0.7694330323497668\n",
            "mse_LightGBM= 17.674369315750504\n",
            "R score_LightGBM= PearsonRResult(statistic=0.8919450965125001, pvalue=1.449627597648955e-12)\n",
            "mape_LightGBM= 0.24407861799752262\n",
            "mallow_LightGBM= 0.5\n",
            "mslr_LightGBM= 0.07502471035084028\n"
          ]
        }
      ],
      "source": [
        "print('R2_LightGBM=',R2_LightGBM)\n",
        "print('mse_LightGBM=',mse_LightGBM)\n",
        "print('R score_LightGBM=',r_LightGBM)\n",
        "print('mape_LightGBM=',mape_LightGBM)\n",
        "print('mallow_LightGBM=',mallow_LightGBM)\n",
        "print('mslr_LightGBM=',mslr_LightGBM)"
      ]
    },
    {
      "cell_type": "code",
      "execution_count": null,
      "metadata": {
        "colab": {
          "base_uri": "https://localhost:8080/",
          "height": 489
        },
        "id": "TaWYZ0ohRpdq",
        "outputId": "d342dae2-0556-42cc-fc61-2267af0d39aa"
      },
      "outputs": [
        {
          "data": {
            "image/png": "[encoded data removed]",
            "text/plain": [
              "<Figure size 640x480 with 1 Axes>"
            ]
          },
          "metadata": {},
          "output_type": "display_data"
        }
      ],
      "source": [
        "import warnings\n",
        "# Ignore the 'matplotlib.font_manager' warning\n",
        "warnings.filterwarnings('ignore', category=UserWarning, module='matplotlib.font_manager')\n",
        "# Your code for the scatter plot and other configurations\n",
        "sns.scatterplot(x=ts_data_Y, y=y_pred_LightGBM, c='#008080', edgecolor='black', s=200)\n",
        "font1 = {'family': 'STIXGeneral', 'color': '#6f045a', 'fontweight': 'bold', 'size': 18}\n",
        "plt.yticks(np.arange(0, 45, 5), color='navy', fontweight='bold', size=15)\n",
        "plt.xticks(np.arange(0, 45, 5), color='navy', fontweight='bold', size=15)\n",
        "plt.xlabel('Actual pce', fontdict=font1)\n",
        "plt.ylabel('Predicted pce', fontdict=font1)\n",
        "plt.title('LightGBM plot', c='#6f045a', fontdict=font1)\n",
        "\n",
        "# Show the plot\n",
        "plt.show()\n"
      ]
    },
    {
      "cell_type": "code",
      "execution_count": null,
      "metadata": {
        "colab": {
          "base_uri": "https://localhost:8080/"
        },
        "id": "h-zZ94m7SL36",
        "outputId": "5eb12410-b4cc-414f-9f83-2aa507db0650"
      },
      "outputs": [
        {
          "name": "stdout",
          "output_type": "stream",
          "text": [
            "Requirement already satisfied: CatBoost in /usr/local/lib/python3.10/dist-packages (1.2)\n",
            "Requirement already satisfied: graphviz in /usr/local/lib/python3.10/dist-packages (from CatBoost) (0.20.1)\n",
            "Requirement already satisfied: matplotlib in /usr/local/lib/python3.10/dist-packages (from CatBoost) (3.7.1)\n",
            "Requirement already satisfied: numpy>=1.16.0 in /usr/local/lib/python3.10/dist-packages (from CatBoost) (1.22.4)\n",
            "Requirement already satisfied: pandas>=0.24 in /usr/local/lib/python3.10/dist-packages (from CatBoost) (1.5.3)\n",
            "Requirement already satisfied: scipy in /usr/local/lib/python3.10/dist-packages (from CatBoost) (1.10.1)\n",
            "Requirement already satisfied: plotly in /usr/local/lib/python3.10/dist-packages (from CatBoost) (5.13.1)\n",
            "Requirement already satisfied: six in /usr/local/lib/python3.10/dist-packages (from CatBoost) (1.16.0)\n",
            "Requirement already satisfied: python-dateutil>=2.8.1 in /usr/local/lib/python3.10/dist-packages (from pandas>=0.24->CatBoost) (2.8.2)\n",
            "Requirement already satisfied: pytz>=2020.1 in /usr/local/lib/python3.10/dist-packages (from pandas>=0.24->CatBoost) (2022.7.1)\n",
            "Requirement already satisfied: contourpy>=1.0.1 in /usr/local/lib/python3.10/dist-packages (from matplotlib->CatBoost) (1.1.0)\n",
            "Requirement already satisfied: cycler>=0.10 in /usr/local/lib/python3.10/dist-packages (from matplotlib->CatBoost) (0.11.0)\n",
            "Requirement already satisfied: fonttools>=4.22.0 in /usr/local/lib/python3.10/dist-packages (from matplotlib->CatBoost) (4.41.1)\n",
            "Requirement already satisfied: kiwisolver>=1.0.1 in /usr/local/lib/python3.10/dist-packages (from matplotlib->CatBoost) (1.4.4)\n",
            "Requirement already satisfied: packaging>=20.0 in /usr/local/lib/python3.10/dist-packages (from matplotlib->CatBoost) (23.1)\n",
            "Requirement already satisfied: pillow>=6.2.0 in /usr/local/lib/python3.10/dist-packages (from matplotlib->CatBoost) (9.4.0)\n",
            "Requirement already satisfied: pyparsing>=2.3.1 in /usr/local/lib/python3.10/dist-packages (from matplotlib->CatBoost) (3.1.0)\n",
            "Requirement already satisfied: tenacity>=6.2.0 in /usr/local/lib/python3.10/dist-packages (from plotly->CatBoost) (8.2.2)\n"
          ]
        }
      ],
      "source": [
        "pip install CatBoost"
      ]
    },
    {
      "cell_type": "code",
      "execution_count": null,
      "metadata": {
        "colab": {
          "base_uri": "https://localhost:8080/",
          "height": 416,
          "referenced_widgets": [
            "202c8716f2b849269addcf783fc734a9"
          ]
        },
        "id": "al2viI6wR7oG",
        "outputId": "cdd41e12-a06e-4c76-9c12-1bf9b332c1a7"
      },
      "outputs": [
        {
          "data": {
            "application/vnd.jupyter.widget-view+json": {
              "model_id": "202c8716f2b849269addcf783fc734a9",
              "version_major": 2,
              "version_minor": 0
            },
            "text/plain": [
              "MetricVisualizer(layout=Layout(align_self='stretch', height='500px'))"
            ]
          },
          "metadata": {},
          "output_type": "display_data"
        },
        {
          "name": "stdout",
          "output_type": "stream",
          "text": [
            "0:\tlearn: 7.8456870\ttest: 8.7920649\tbest: 8.7920649 (0)\ttotal: 397us\tremaining: 6.76ms\n",
            "1:\tlearn: 7.7112692\ttest: 8.6357698\tbest: 8.6357698 (1)\ttotal: 1.2ms\tremaining: 9.57ms\n",
            "2:\tlearn: 7.5253691\ttest: 8.4182048\tbest: 8.4182048 (2)\ttotal: 1.44ms\tremaining: 7.21ms\n",
            "3:\tlearn: 7.3607810\ttest: 8.2325807\tbest: 8.2325807 (3)\ttotal: 2.2ms\tremaining: 7.69ms\n",
            "4:\tlearn: 7.1887788\ttest: 8.0144985\tbest: 8.0144985 (4)\ttotal: 2.44ms\tremaining: 6.35ms\n",
            "5:\tlearn: 7.0661357\ttest: 7.8661667\tbest: 7.8661667 (5)\ttotal: 2.67ms\tremaining: 5.33ms\n",
            "6:\tlearn: 6.9786937\ttest: 7.6822618\tbest: 7.6822618 (6)\ttotal: 2.88ms\tremaining: 4.53ms\n",
            "7:\tlearn: 6.9008346\ttest: 7.5568826\tbest: 7.5568826 (7)\ttotal: 3.09ms\tremaining: 3.86ms\n",
            "8:\tlearn: 6.8093119\ttest: 7.4743890\tbest: 7.4743890 (8)\ttotal: 3.38ms\tremaining: 3.38ms\n",
            "9:\tlearn: 6.7210456\ttest: 7.3190131\tbest: 7.3190131 (9)\ttotal: 3.62ms\tremaining: 2.9ms\n",
            "10:\tlearn: 6.6208361\ttest: 7.2138400\tbest: 7.2138400 (10)\ttotal: 4.39ms\tremaining: 2.8ms\n",
            "11:\tlearn: 6.5326610\ttest: 7.1416397\tbest: 7.1416397 (11)\ttotal: 4.81ms\tremaining: 2.4ms\n",
            "12:\tlearn: 6.4208230\ttest: 6.9733570\tbest: 6.9733570 (12)\ttotal: 5.05ms\tremaining: 1.94ms\n",
            "13:\tlearn: 6.3522810\ttest: 6.8837204\tbest: 6.8837204 (13)\ttotal: 5.44ms\tremaining: 1.55ms\n",
            "14:\tlearn: 6.2839635\ttest: 6.7825035\tbest: 6.7825035 (14)\ttotal: 5.68ms\tremaining: 1.14ms\n",
            "15:\tlearn: 6.1923115\ttest: 6.6325450\tbest: 6.6325450 (15)\ttotal: 5.95ms\tremaining: 743us\n",
            "16:\tlearn: 6.1370832\ttest: 6.5616823\tbest: 6.5616823 (16)\ttotal: 6.23ms\tremaining: 366us\n",
            "17:\tlearn: 6.0990662\ttest: 6.4886974\tbest: 6.4886974 (17)\ttotal: 6.52ms\tremaining: 0us\n",
            "\n",
            "bestTest = 6.488697352\n",
            "bestIteration = 17\n",
            "\n",
            "catboost: 0.06490921974182129 seconds\n"
          ]
        }
      ],
      "source": [
        "import time\n",
        "st = time.time()\n",
        "from catboost import CatBoostRegressor\n",
        "model=CatBoostRegressor(iterations=18, depth=4, learning_rate=0.1, loss_function='RMSE')\n",
        "model.fit(tr_data_X,tr_data_Y, eval_set=(ts_data_X,ts_data_Y),plot=True)\n",
        "y_pred_CatBoost = np.array(model.predict(ts_data_X))\n",
        "et = time.time()\n",
        "elapsed_time = et - st\n",
        "print('catboost:', elapsed_time, 'seconds')"
      ]
    },
    {
      "cell_type": "code",
      "execution_count": null,
      "metadata": {
        "id": "xigN5ulnSEf7"
      },
      "outputs": [],
      "source": [
        "from sklearn.metrics import r2_score,mean_squared_error\n",
        "R2_CatBoost =r2_score(ts_data_Y, y_pred_CatBoost)\n",
        "mse_CatBoost= mean_squared_error(ts_data_Y,y_pred_CatBoost)\n",
        "import scipy\n",
        "r_CatBoost=scipy.stats.pearsonr(ts_data_Y,y_pred_CatBoost)"
      ]
    },
    {
      "cell_type": "code",
      "execution_count": null,
      "metadata": {
        "colab": {
          "base_uri": "https://localhost:8080/"
        },
        "id": "KLUBuhQoSUoT",
        "outputId": "cdd76255-9817-4753-f953-943e3590bfdd"
      },
      "outputs": [
        {
          "name": "stdout",
          "output_type": "stream",
          "text": [
            "R2_CatBoost= 0.4507523804798893\n",
            "mse_CatBoost= 42.10319184976032\n",
            "R score_CatBoost= 0.7941828705410403\n"
          ]
        }
      ],
      "source": [
        "print('R2_CatBoost=',R2_CatBoost)\n",
        "print('mse_CatBoost=',mse_CatBoost)\n",
        "print('R score_CatBoost=',r_CatBoost[0])"
      ]
    },
    {
      "cell_type": "code",
      "execution_count": null,
      "metadata": {
        "colab": {
          "base_uri": "https://localhost:8080/"
        },
        "id": "_Xfvaza8SYcw",
        "outputId": "39f170be-585a-4105-f2c0-d7396f8cfbc5"
      },
      "outputs": [
        {
          "name": "stdout",
          "output_type": "stream",
          "text": [
            "2/2 [==============================] - 0s 4ms/step\n",
            "8.179843862930294\n",
            "ANN time: 7.876587629318237 seconds\n"
          ]
        }
      ],
      "source": [
        "import time\n",
        "st = time.time()\n",
        "from keras.models import Sequential\n",
        "from keras.layers import Dense\n",
        "from sklearn.metrics import mean_squared_error\n",
        "np.random.seed(seed=8)\n",
        "model = Sequential()\n",
        "model.add(Dense(units=20, input_dim=5, kernel_initializer='normal', activation='relu'))\n",
        "model.add(Dense(units=20, kernel_initializer='normal', activation='tanh'))\n",
        "model.add(Dense(1, kernel_initializer='normal'))\n",
        "model.compile(loss='mean_squared_error', optimizer='adam')\n",
        "model.fit(tr_data_X, tr_data_Y ,batch_size = 8, epochs = 100,verbose=0)\n",
        "pred=model.predict(ts_data_X)\n",
        "pred_ANN=[]\n",
        "for i in pred:\n",
        "  pred_ANN.append(i[0])\n",
        "pred_ANN=np.array(pred_ANN)\n",
        "rms = mean_squared_error(pred_ANN, ts_data_Y, squared=False)\n",
        "print(rms)\n",
        "et = time.time()\n",
        "elapsed_time = et - st\n",
        "print('ANN time:', elapsed_time, 'seconds')"
      ]
    },
    {
      "cell_type": "code",
      "execution_count": null,
      "metadata": {
        "id": "GCXBqZtWScsp"
      },
      "outputs": [],
      "source": [
        "from sklearn.metrics import r2_score,mean_squared_error\n",
        "R2_ANN =r2_score(ts_data_Y, pred_ANN)\n",
        "mse_ANN= mean_squared_error(ts_data_Y,pred_ANN)\n",
        "import scipy\n",
        "r_ANN=scipy.stats.pearsonr(ts_data_Y,pred_ANN)"
      ]
    },
    {
      "cell_type": "code",
      "execution_count": null,
      "metadata": {
        "colab": {
          "base_uri": "https://localhost:8080/"
        },
        "id": "7WSEKbVMSj7V",
        "outputId": "48b52f0f-4874-4e4c-ba69-8b78c2eb5344"
      },
      "outputs": [
        {
          "name": "stdout",
          "output_type": "stream",
          "text": [
            "R2_ANN= 0.12714281707110076\n",
            "mse_ANN= 66.90984562191841\n",
            "R score_ANN= 0.4364070672872936\n"
          ]
        }
      ],
      "source": [
        "print('R2_ANN=',R2_ANN)\n",
        "print('mse_ANN=',mse_ANN)\n",
        "print('R score_ANN=',r_ANN[0])"
      ]
    },
    {
      "cell_type": "code",
      "execution_count": null,
      "metadata": {
        "colab": {
          "base_uri": "https://localhost:8080/"
        },
        "id": "4QaYYnskSm_E",
        "outputId": "3bf6b8fe-9f4d-4b69-f1e7-176387df8fce"
      },
      "outputs": [
        {
          "name": "stdout",
          "output_type": "stream",
          "text": [
            "R2_LR= 0.2216936757068303\n",
            "mse_LR= 59.66194358425846\n",
            "R score_LR= 0.48192765085617223\n",
            "-----------------------------------------\n",
            "R2_dtr= 0.9965036554965081\n",
            "mse_dtr= 0.268016206482593\n",
            "R score_dtr= 0.9984198201453158\n",
            "-----------------------------------------\n",
            "R2_xgb= 0.991871490620313\n",
            "mse_xgb= 0.6230999966182038\n",
            "R score_xgb= 0.9962695273293322\n",
            "-----------------------------------------\n",
            "R2_knn= 0.6868722681186614\n",
            "mse_knn= 24.003157228790855\n",
            "R score_knn= 0.8351825120028713\n",
            "-----------------------------------------\n",
            "R2_svr= -0.06686973460097434\n",
            "mse_svr= 81.78209521209043\n",
            "R score_svr= 0.3204386572790435\n",
            "-----------------------------------------\n",
            "R2_rf= 0.9408906863179526\n",
            "mse_rf= 4.531090687725376\n",
            "R score_rf= 0.9791415419799454\n",
            "-----------------------------------------\n",
            "R2_AdB= 0.6212603132576748\n",
            "mse_AdB= 29.03271516399604\n",
            "R score_AdB= 0.8120328894868366\n",
            "-----------------------------------------\n",
            "R2_LightGBM= 0.7694330323497668\n",
            "mse_LightGBM= 17.674369315750504\n",
            "R score_LightGBM= 0.8919450965125001\n",
            "-----------------------------------------\n",
            "R2_CatBoost= 0.4507523804798893\n",
            "mse_CatBoost= 42.10319184976032\n",
            "R score_CatBoost= 0.7941828705410403\n",
            "-----------------------------------------\n",
            "R2_ANN= 0.12714281707110076\n",
            "mse_ANN= 66.90984562191841\n",
            "R score_ANN= 0.4364070672872936\n"
          ]
        }
      ],
      "source": [
        "print('R2_LR=',score_lr)\n",
        "print('mse_LR=',mse_lr)\n",
        "print('R score_LR=',r_lr[0])\n",
        "print('-----------------------------------------')\n",
        "print('R2_dtr=',score_dtr)\n",
        "print('mse_dtr=',mse_dtr)\n",
        "print('R score_dtr=',r_dtr[0])\n",
        "print('-----------------------------------------')\n",
        "print('R2_xgb=',R2_xgb)\n",
        "print('mse_xgb=',mse_xgb)\n",
        "print('R score_xgb=',r_xgb[0])\n",
        "print('-----------------------------------------')\n",
        "print('R2_knn=',R2_knn)\n",
        "print('mse_knn=',mse_knn)\n",
        "print('R score_knn=',r_knn[0])\n",
        "print('-----------------------------------------')\n",
        "print('R2_svr=',R2_svr)\n",
        "print('mse_svr=',mse_svr)\n",
        "print('R score_svr=',r_svr[0])\n",
        "print('-----------------------------------------')\n",
        "print('R2_rf=',R2_rf)\n",
        "print('mse_rf=',mse_rf)\n",
        "print('R score_rf=',r_rf[0])\n",
        "print('-----------------------------------------')\n",
        "print('R2_AdB=',R2_AdB)\n",
        "print('mse_AdB=',mse_AdB)\n",
        "print('R score_AdB=',r_AdB[0])\n",
        "print('-----------------------------------------')\n",
        "print('R2_LightGBM=',R2_LightGBM)\n",
        "print('mse_LightGBM=',mse_LightGBM)\n",
        "print('R score_LightGBM=',r_LightGBM[0])\n",
        "print('-----------------------------------------')\n",
        "print('R2_CatBoost=',R2_CatBoost)\n",
        "print('mse_CatBoost=',mse_CatBoost)\n",
        "print('R score_CatBoost=',r_CatBoost[0])\n",
        "print('-----------------------------------------')\n",
        "print('R2_ANN=',R2_ANN)\n",
        "print('mse_ANN=',mse_ANN)\n",
        "print('R score_ANN=',r_ANN[0])"
      ]
    },
    {
      "cell_type": "code",
      "execution_count": null,
      "metadata": {
        "id": "1omk2HIMSqqL"
      },
      "outputs": [],
      "source": []
    }
  ],
  "metadata": {
    "colab": {
      "provenance": []
    },
    "kernelspec": {
      "display_name": "Python 3.8.10 64-bit",
      "language": "python",
      "name": "python3"
    },
    "language_info": {
      "codemirror_mode": {
        "name": "ipython",
        "version": 3
      },
      "file_extension": ".py",
      "mimetype": "text/x-python",
      "name": "python",
      "nbconvert_exporter": "python",
      "pygments_lexer": "ipython3",
      "version": "3.8.10"
    },
    "vscode": {
      "interpreter": {
        "hash": "e7370f93d1d0cde622a1f8e1c04877d8463912d04d973331ad4851f04de6915a"
      }
    },
    "widgets": {
      "application/vnd.jupyter.widget-state+json": {
        "202c8716f2b849269addcf783fc734a9": {
          "model_module": "catboost-widget",
          "model_module_version": "^1.0.0",
          "model_name": "CatboostWidgetModel",
          "state": {
            "_dom_classes": [],
            "_model_module": "catboost-widget",
            "_model_module_version": "^1.0.0",
            "_model_name": "CatboostWidgetModel",
            "_view_count": null,
            "_view_module": "catboost-widget",
            "_view_module_version": "^1.0.0",
            "_view_name": "CatboostWidgetView",
            "data": {
              "catboost_info": {
                "content": {
                  "data": {
                    "iterations": [
                      {
                        "iteration": 0,
                        "learn": [
                          7.84568698
                        ],
                        "passed_time": 0.0003977007428,
                        "remaining_time": 0.006760912628,
                        "test": [
                          8.792064859
                        ]
                      },
                      {
                        "iteration": 1,
                        "learn": [
                          7.711269178
                        ],
                        "passed_time": 0.001196337804,
                        "remaining_time": 0.00957070243,
                        "test": [
                          8.635769769
                        ]
                      },
                      {
                        "iteration": 2,
                        "learn": [
                          7.525369091
                        ],
                        "passed_time": 0.001442919274,
                        "remaining_time": 0.007214596368,
                        "test": [
                          8.418204827
                        ]
                      },
                      {
                        "iteration": 3,
                        "learn": [
                          7.360781049
                        ],
                        "passed_time": 0.002198032438,
                        "remaining_time": 0.007693113535,
                        "test": [
                          8.232580727
                        ]
                      },
                      {
                        "iteration": 4,
                        "learn": [
                          7.188778792
                        ],
                        "passed_time": 0.002441954718,
                        "remaining_time": 0.006349082268,
                        "test": [
                          8.014498466
                        ]
                      },
                      {
                        "iteration": 5,
                        "learn": [
                          7.066135725
                        ],
                        "passed_time": 0.002665129406,
                        "remaining_time": 0.005330258812,
                        "test": [
                          7.866166714
                        ]
                      },
                      {
                        "iteration": 6,
                        "learn": [
                          6.978693748
                        ],
                        "passed_time": 0.002879546494,
                        "remaining_time": 0.004525001634,
                        "test": [
                          7.682261836
                        ]
                      },
                      {
                        "iteration": 7,
                        "learn": [
                          6.900834627
                        ],
                        "passed_time": 0.003090903469,
                        "remaining_time": 0.003863629336,
                        "test": [
                          7.556882554
                        ]
                      },
                      {
                        "iteration": 8,
                        "learn": [
                          6.80931186
                        ],
                        "passed_time": 0.003384075767,
                        "remaining_time": 0.003384075767,
                        "test": [
                          7.474389021
                        ]
                      },
                      {
                        "iteration": 9,
                        "learn": [
                          6.721045648
                        ],
                        "passed_time": 0.003620326852,
                        "remaining_time": 0.002896261482,
                        "test": [
                          7.319013109
                        ]
                      },
                      {
                        "iteration": 10,
                        "learn": [
                          6.620836122
                        ],
                        "passed_time": 0.004394041165,
                        "remaining_time": 0.002796208014,
                        "test": [
                          7.213839975
                        ]
                      },
                      {
                        "iteration": 11,
                        "learn": [
                          6.532660982
                        ],
                        "passed_time": 0.004811559011,
                        "remaining_time": 0.002405779505,
                        "test": [
                          7.141639654
                        ]
                      },
                      {
                        "iteration": 12,
                        "learn": [
                          6.420822981
                        ],
                        "passed_time": 0.005052036617,
                        "remaining_time": 0.001943091006,
                        "test": [
                          6.973357038
                        ]
                      },
                      {
                        "iteration": 13,
                        "learn": [
                          6.352281043
                        ],
                        "passed_time": 0.005438009649,
                        "remaining_time": 0.001553717043,
                        "test": [
                          6.88372037
                        ]
                      },
                      {
                        "iteration": 14,
                        "learn": [
                          6.283963524
                        ],
                        "passed_time": 0.005679020002,
                        "remaining_time": 0.001135804,
                        "test": [
                          6.782503519
                        ]
                      },
                      {
                        "iteration": 15,
                        "learn": [
                          6.192311513
                        ],
                        "passed_time": 0.005951375161,
                        "remaining_time": 0.0007439218951,
                        "test": [
                          6.632544959
                        ]
                      },
                      {
                        "iteration": 16,
                        "learn": [
                          6.137083186
                        ],
                        "passed_time": 0.006234513449,
                        "remaining_time": 0.0003667360852,
                        "test": [
                          6.56168233
                        ]
                      },
                      {
                        "iteration": 17,
                        "learn": [
                          6.099066184
                        ],
                        "passed_time": 0.006521816892,
                        "remaining_time": 0,
                        "test": [
                          6.488697352
                        ]
                      }
                    ],
                    "meta": {
                      "iteration_count": 18,
                      "launch_mode": "Train",
                      "learn_metrics": [
                        {
                          "best_value": "Min",
                          "name": "RMSE"
                        }
                      ],
                      "learn_sets": [
                        "learn"
                      ],
                      "name": "experiment",
                      "parameters": "",
                      "test_metrics": [
                        {
                          "best_value": "Min",
                          "name": "RMSE"
                        }
                      ],
                      "test_sets": [
                        "test"
                      ]
                    }
                  },
                  "passed_iterations": 17,
                  "total_iterations": 18
                },
                "name": "catboost_info",
                "path": "catboost_info"
              }
            },
            "layout": "IPY_MODEL_90a5c4bd28d343ec8b4e9fa157ffce90"
          }
        }
      }
    }
  },
  "nbformat": 4,
  "nbformat_minor": 0
}
